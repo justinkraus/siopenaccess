{
 "cells": [
  {
   "cell_type": "markdown",
   "metadata": {},
   "source": [
    "# Using SI Open Access Data on AWS to cluster and search against American Art paintings"
   ]
  },
  {
   "cell_type": "markdown",
   "metadata": {},
   "source": [
    "## Introduction"
   ]
  },
  {
   "cell_type": "markdown",
   "metadata": {},
   "source": [
    "In this notebook, we will show how to use the Smithsonian Open Access dataset on AWS, by demonstrating an end-to-end example of filtering metadata, downloading images, and then processing them to produce a cluster representation."
   ]
  },
  {
   "cell_type": "markdown",
   "metadata": {},
   "source": [
    "## Using Dask to parse and filter collections metadata on AWS"
   ]
  },
  {
   "cell_type": "markdown",
   "metadata": {},
   "source": [
    "In this section, we will use Dask and s3fs to process metadata files stored on AWS."
   ]
  },
  {
   "cell_type": "code",
   "execution_count": 1,
   "metadata": {
    "ExecuteTime": {
     "end_time": "2020-07-21T18:15:39.121900Z",
     "start_time": "2020-07-21T18:15:36.423043Z"
    }
   },
   "outputs": [],
   "source": [
    "from dask.distributed import Client\n",
    "import dask.bag as db\n",
    "import json\n",
    "from collections import Counter\n",
    "import time\n",
    "import numpy as np\n",
    "import pandas as pd\n",
    "import s3fs\n",
    "from PIL import Image\n",
    "import humanize\n"
   ]
  },
  {
   "cell_type": "markdown",
   "metadata": {},
   "source": [
    "Using s3fs, we can list the top-level \"directories\" in the \"smithsonian-open-access\" S3 bucket. We can see that the bucket is split between metadata files and media files."
   ]
  },
  {
   "cell_type": "code",
   "execution_count": 2,
   "metadata": {
    "ExecuteTime": {
     "end_time": "2020-07-21T18:15:39.718176Z",
     "start_time": "2020-07-21T18:15:39.123962Z"
    }
   },
   "outputs": [
    {
     "data": {
      "text/plain": [
       "['smithsonian-open-access/media', 'smithsonian-open-access/metadata']"
      ]
     },
     "execution_count": 2,
     "metadata": {},
     "output_type": "execute_result"
    }
   ],
   "source": [
    "fs = s3fs.S3FileSystem(anon=True)\n",
    "fs.ls('smithsonian-open-access')"
   ]
  },
  {
   "cell_type": "markdown",
   "metadata": {},
   "source": [
    "Taking a closer look inside the media directory, we can see that metadata files are organized by Smithsonian unit code. This is really helpful if you would like to work with files from just one unit, like in this case where we will be focusing on paintings from the Smithsonian American Art Museum (SAAM)."
   ]
  },
  {
   "cell_type": "code",
   "execution_count": 3,
   "metadata": {
    "ExecuteTime": {
     "end_time": "2020-07-21T18:15:39.865309Z",
     "start_time": "2020-07-21T18:15:39.720489Z"
    }
   },
   "outputs": [
    {
     "data": {
      "text/plain": [
       "['smithsonian-open-access/metadata/edan/acah',\n",
       " 'smithsonian-open-access/metadata/edan/acm',\n",
       " 'smithsonian-open-access/metadata/edan/cfchfolklife',\n",
       " 'smithsonian-open-access/metadata/edan/chndm',\n",
       " 'smithsonian-open-access/metadata/edan/fbr',\n",
       " 'smithsonian-open-access/metadata/edan/fs',\n",
       " 'smithsonian-open-access/metadata/edan/fsa',\n",
       " 'smithsonian-open-access/metadata/edan/fsg',\n",
       " 'smithsonian-open-access/metadata/edan/hac',\n",
       " 'smithsonian-open-access/metadata/edan/hmsg',\n",
       " 'smithsonian-open-access/metadata/edan/hsfa',\n",
       " 'smithsonian-open-access/metadata/edan/naa',\n",
       " 'smithsonian-open-access/metadata/edan/nasm',\n",
       " 'smithsonian-open-access/metadata/edan/nmaahc',\n",
       " 'smithsonian-open-access/metadata/edan/nmafa',\n",
       " 'smithsonian-open-access/metadata/edan/nmah',\n",
       " 'smithsonian-open-access/metadata/edan/nmai',\n",
       " 'smithsonian-open-access/metadata/edan/nmnhanthro',\n",
       " 'smithsonian-open-access/metadata/edan/nmnhbirds',\n",
       " 'smithsonian-open-access/metadata/edan/nmnhbotany',\n",
       " 'smithsonian-open-access/metadata/edan/nmnheducation',\n",
       " 'smithsonian-open-access/metadata/edan/nmnhento',\n",
       " 'smithsonian-open-access/metadata/edan/nmnhfishes',\n",
       " 'smithsonian-open-access/metadata/edan/nmnhherps',\n",
       " 'smithsonian-open-access/metadata/edan/nmnhinv',\n",
       " 'smithsonian-open-access/metadata/edan/nmnhmammals',\n",
       " 'smithsonian-open-access/metadata/edan/nmnhminsci',\n",
       " 'smithsonian-open-access/metadata/edan/nmnhpaleo',\n",
       " 'smithsonian-open-access/metadata/edan/npg',\n",
       " 'smithsonian-open-access/metadata/edan/npm',\n",
       " 'smithsonian-open-access/metadata/edan/nzp',\n",
       " 'smithsonian-open-access/metadata/edan/saam',\n",
       " 'smithsonian-open-access/metadata/edan/si',\n",
       " 'smithsonian-open-access/metadata/edan/sia',\n",
       " 'smithsonian-open-access/metadata/edan/sil']"
      ]
     },
     "execution_count": 3,
     "metadata": {},
     "output_type": "execute_result"
    }
   ],
   "source": [
    "metadata = fs.ls('smithsonian-open-access/metadata/edan')\n",
    "metadata"
   ]
  },
  {
   "cell_type": "markdown",
   "metadata": {},
   "source": [
    "Within each unit, metadata is stored in .txt files in JSONL format. Here we see that there are 256 such files in the SAAM metadata directory, each a little over 100 kilobytes in size."
   ]
  },
  {
   "cell_type": "code",
   "execution_count": 4,
   "metadata": {
    "ExecuteTime": {
     "end_time": "2020-07-21T18:15:40.708850Z",
     "start_time": "2020-07-21T18:15:39.868061Z"
    }
   },
   "outputs": [
    {
     "name": "stdout",
     "output_type": "stream",
     "text": [
      "256\n",
      "smithsonian-open-access/metadata/edan/saam/00.txt\n",
      "110.5 kB\n",
      "smithsonian-open-access/metadata/edan/saam/01.txt\n",
      "149.6 kB\n",
      "smithsonian-open-access/metadata/edan/saam/02.txt\n",
      "125.7 kB\n",
      "smithsonian-open-access/metadata/edan/saam/03.txt\n",
      "135.5 kB\n",
      "smithsonian-open-access/metadata/edan/saam/04.txt\n",
      "125.9 kB\n"
     ]
    }
   ],
   "source": [
    "saam_metadata = fs.ls('smithsonian-open-access/metadata/edan/saam')\n",
    "print(len(saam_metadata))\n",
    "for metadata_file in saam_metadata[:5]:\n",
    "    print(metadata_file)\n",
    "    print(humanize.naturalsize(fs.du(metadata_file)))"
   ]
  },
  {
   "cell_type": "markdown",
   "metadata": {},
   "source": [
    "### Dask intro\n",
    "\n",
    "We will be using the Python Dask library to process this collection of metadata files, because it excels at parallelizing workloads across large numbers of text files, and has built-in support for working with AWS S3 objects."
   ]
  },
  {
   "cell_type": "markdown",
   "metadata": {},
   "source": [
    "The first step to using Dask is to set up a \"client\" that will orchestrate processing across multiple workers. In this specific example, we use 1 worker and 4 threads per worker, because Binder only provide single CPU environments. If you are running this example on your own machine, feel free to crank these numbers up for better performance. "
   ]
  },
  {
   "cell_type": "code",
   "execution_count": 5,
   "metadata": {
    "ExecuteTime": {
     "end_time": "2020-07-21T18:15:41.698796Z",
     "start_time": "2020-07-21T18:15:40.710379Z"
    }
   },
   "outputs": [
    {
     "data": {
      "text/html": [
       "<table style=\"border: 2px solid white;\">\n",
       "<tr>\n",
       "<td style=\"vertical-align: top; border: 0px solid white\">\n",
       "<h3 style=\"text-align: left;\">Client</h3>\n",
       "<ul style=\"text-align: left; list-style: none; margin: 0; padding: 0;\">\n",
       "  <li><b>Scheduler: </b>tcp://127.0.0.1:59328</li>\n",
       "  <li><b>Dashboard: </b><a href='http://127.0.0.1:8787/status' target='_blank'>http://127.0.0.1:8787/status</a></li>\n",
       "</ul>\n",
       "</td>\n",
       "<td style=\"vertical-align: top; border: 0px solid white\">\n",
       "<h3 style=\"text-align: left;\">Cluster</h3>\n",
       "<ul style=\"text-align: left; list-style:none; margin: 0; padding: 0;\">\n",
       "  <li><b>Workers: </b>1</li>\n",
       "  <li><b>Cores: </b>4</li>\n",
       "  <li><b>Memory: </b>17.18 GB</li>\n",
       "</ul>\n",
       "</td>\n",
       "</tr>\n",
       "</table>"
      ],
      "text/plain": [
       "<Client: 'tcp://127.0.0.1:59328' processes=1 threads=4, memory=17.18 GB>"
      ]
     },
     "execution_count": 5,
     "metadata": {},
     "output_type": "execute_result"
    }
   ],
   "source": [
    "client = Client(threads_per_worker=4, n_workers=1)\n",
    "client"
   ]
  },
  {
   "cell_type": "markdown",
   "metadata": {},
   "source": [
    "To process nested JSON data, we use the Dask \"bag\" datatype, and tell it we want to process all .txt files in the SAAM metadata directory. This command will run instantaneously, because Dask uses a \"lazy\" execution model. This means that most Dask commands build an execution graph to be run later."
   ]
  },
  {
   "cell_type": "code",
   "execution_count": 6,
   "metadata": {
    "ExecuteTime": {
     "end_time": "2020-07-21T18:15:41.740133Z",
     "start_time": "2020-07-21T18:15:41.701204Z"
    }
   },
   "outputs": [],
   "source": [
    "b = db.read_text('s3://smithsonian-open-access/metadata/edan/saam/*.txt',\n",
    "                storage_options={'anon': True}).map(json.loads)"
   ]
  },
  {
   "cell_type": "markdown",
   "metadata": {},
   "source": [
    "One exception to the \"lazy\" execution model is the take command, which executes the code immediately to process the first few objects. Here we take just the first object, and then save it to file.\n",
    "\n",
    "Take a look at how complicated these objects are: [saam_metadata_example.json](https://github.com/sidatasciencelab/siopenaccess/blob/master/saam_metadata_example.json)"
   ]
  },
  {
   "cell_type": "code",
   "execution_count": 7,
   "metadata": {
    "ExecuteTime": {
     "end_time": "2020-07-21T18:15:43.100764Z",
     "start_time": "2020-07-21T18:15:41.741489Z"
    }
   },
   "outputs": [],
   "source": [
    "saam_example = b.take(1)[0]\n",
    "with open('saam_metadata_example.json', 'w') as json_out:\n",
    "    json.dump(saam_example, json_out, indent=2)"
   ]
  },
  {
   "cell_type": "code",
   "execution_count": 8,
   "metadata": {
    "ExecuteTime": {
     "end_time": "2020-07-21T18:15:43.108244Z",
     "start_time": "2020-07-21T18:15:43.103758Z"
    }
   },
   "outputs": [
    {
     "data": {
      "application/json": {
       "content": {
        "descriptiveNonRepeating": {
         "data_source": "Smithsonian American Art Museum",
         "guid": "http://n2t.net/ark:/65665/vk7323e8ffa-fe0d-4000-abf9-2f9c1ad6c49b",
         "metadata_usage": {
          "access": "CC0"
         },
         "online_media": {
          "media": [
           {
            "content": "http://ids.si.edu/ids/deliveryService?id=SAAM-1971.439.94_1",
            "guid": "http://n2t.net/ark:/65665/bj992c82692-2156-4c18-afee-bd08d92b590a",
            "idsId": "SAAM-1971.439.94_1",
            "resources": [
             {
              "label": "High-resolution TIFF",
              "url": "https://ids.si.edu/ids/download?id=SAAM-1971.439.94_1.tif"
             },
             {
              "label": "High-resolution JPEG (2251x2251)",
              "url": "https://ids.si.edu/ids/download?id=SAAM-1971.439.94_1.jpg"
             },
             {
              "label": "Screen Image",
              "url": "https://ids.si.edu/ids/download?id=SAAM-1971.439.94_1_screen"
             },
             {
              "label": "Thumbnail Image",
              "url": "https://ids.si.edu/ids/download?id=SAAM-1971.439.94_1_thumb"
             }
            ],
            "thumbnail": "http://ids.si.edu/ids/deliveryService?id=SAAM-1971.439.94_1",
            "type": "Images",
            "usage": {
             "access": "CC0"
            }
           }
          ],
          "mediaCount": 1
         },
         "record_ID": "saam_1971.439.94",
         "record_link": "http://americanart.si.edu/collections/search/artwork/?id=19888",
         "title": {
          "content": "Calavera for the Policeman",
          "label": "Title"
         },
         "title_sort": "CALAVERA FOR THE POLICEMAN",
         "unit_code": "SAAM"
        },
        "freetext": {
         "creditLine": [
          {
           "content": "Smithsonian American Art Museum, Gift of Jack Lord",
           "label": "Credit Line"
          }
         ],
         "dataSource": [
          {
           "content": "Smithsonian American Art Museum",
           "label": "Data Source"
          }
         ],
         "identifier": [
          {
           "content": "1971.439.94",
           "label": "Object number"
          }
         ],
         "name": [
          {
           "content": "José Guadalupe Posada, Mexican, Aguascalientes, Mexico 1852-died Mexico City, Mexico 1913",
           "label": "Artist"
          }
         ],
         "objectRights": [
          {
           "content": "CC0",
           "label": "Restrictions & Rights"
          }
         ],
         "objectType": [
          {
           "content": "Graphic Arts-Print",
           "label": "Type"
          }
         ],
         "physicalDescription": [
          {
           "content": "woodcut",
           "label": "Medium"
          }
         ],
         "setName": [
          {
           "content": "Smithsonian American Art Museum Collection",
           "label": "See more items in"
          },
          {
           "content": "Graphic Arts",
           "label": "Department"
          }
         ],
         "topic": [
          {
           "content": "Occupation\\service\\policeman",
           "label": "Topic"
          },
          {
           "content": "Skeleton",
           "label": "Topic"
          }
         ]
        },
        "indexedStructured": {
         "name": [
          "Posada, José Guadalupe"
         ],
         "object_type": [
          "Graphic arts"
         ],
         "online_media_type": [
          "Images"
         ],
         "topic": [
          "Occupations",
          "Service",
          "Policeman",
          "Skeleton"
         ],
         "usage_flag": [
          "permcoll"
         ]
        }
       },
       "docSignature": "cb88c162ef6cfd48131cb653ac71cfeb6a7fffb8_8ddc66a424ab35ff746bb3c87d9f1f21",
       "hash": "002336a21b739d08cbe69621658ae6f9af99a305",
       "id": "edanmdm-saam_1971.439.94",
       "lastTimeUpdated": 1583487399,
       "linkedId": "0",
       "timestamp": 1583487418,
       "title": "Calavera for the Policeman",
       "type": "edanmdm",
       "unitCode": "SAAM",
       "url": "edanmdm:saam_1971.439.94",
       "version": ""
      },
      "text/plain": [
       "<IPython.core.display.JSON object>"
      ]
     },
     "metadata": {
      "application/json": {
       "expanded": true,
       "root": "root"
      }
     },
     "output_type": "display_data"
    }
   ],
   "source": [
    "#This interactive JSON viewer only works correctly in Jupyter Lab\n",
    "\n",
    "from IPython.display import display, JSON\n",
    "display(JSON(saam_example, expanded=True))"
   ]
  },
  {
   "cell_type": "markdown",
   "metadata": {},
   "source": [
    "Because of how complicated each individual record is, we need to create a Python function to pull out the pieces of data that we want to store and/or filter on later."
   ]
  },
  {
   "cell_type": "code",
   "execution_count": 9,
   "metadata": {
    "ExecuteTime": {
     "end_time": "2020-07-21T18:15:43.121213Z",
     "start_time": "2020-07-21T18:15:43.110458Z"
    }
   },
   "outputs": [],
   "source": [
    "def flatten(record):\n",
    "    \"\"\"Take a single SAAM metadata record, and pulls out specific pieces of data.\n",
    "\n",
    "    Parameters\n",
    "    ----------\n",
    "    record : dict\n",
    "        A single SAAM metadata record in highly-nested dictionary format.\n",
    "\n",
    "    Returns\n",
    "    -------\n",
    "    flattened_record: dict\n",
    "        An un-nested dictionary that only contains the record id, unit code,\n",
    "        object title, media_count, media_id, topic list, object type, and\n",
    "        object medium.\n",
    "    \"\"\"\n",
    "    flattened_record = dict()\n",
    "    flattened_record['id'] = record['id']\n",
    "    flattened_record['unitCode'] = record['unitCode']\n",
    "    flattened_record['title'] = record['title']\n",
    "    media_count = record['content'].get('descriptiveNonRepeating', {}).get('online_media',{}).get('mediaCount',np.nan)\n",
    "    flattened_record['media_count'] = float(media_count)\n",
    "    media = record['content'].get('descriptiveNonRepeating', {}).get('online_media',{}).get('media',[])   \n",
    "    if len(media):\n",
    "        flattened_record['media_id'] = media[0]['idsId']\n",
    "        \n",
    "    topics = record['content'].get('indexedStructured',{}).get('topic',[])\n",
    "    if len(topics):\n",
    "        flattened_record['topics'] = '|'.join(topics)\n",
    "    \n",
    "    if 'freetext' in record['content']:\n",
    "        if 'objectType' in record['content']['freetext']:\n",
    "            for obtype in record['content']['freetext']['objectType']:\n",
    "                if obtype['label'] == 'Type':\n",
    "                    flattened_record['object_type'] = obtype['content']\n",
    "        if 'physicalDescription' in record['content']['freetext']:\n",
    "            for phys in record['content']['freetext']['physicalDescription']:\n",
    "                if phys['label'] == 'Medium':\n",
    "                    flattened_record['medium'] = phys['content']\n",
    "        if 'name' in record['content']['freetext']:\n",
    "            for name in record['content']['freetext']['name']:\n",
    "                if name['label'] == 'Artist':\n",
    "                    flattened_record['artist'] = name['content']\n",
    "        if 'date' in record['content']['freetext']:\n",
    "            for date in record['content']['freetext']['date']:\n",
    "                if date['label'] == 'Date':\n",
    "                    flattened_record['date'] = str(date['content'])\n",
    "            \n",
    "    return flattened_record"
   ]
  },
  {
   "cell_type": "markdown",
   "metadata": {},
   "source": [
    "Here we test out this `flatten` function by passing it the single record we pulled out earlier with the `take` command. You can see how it converted the highly-nested format into a single level dictionary with only a few pieces of information."
   ]
  },
  {
   "cell_type": "code",
   "execution_count": 10,
   "metadata": {
    "ExecuteTime": {
     "end_time": "2020-07-21T18:15:43.127337Z",
     "start_time": "2020-07-21T18:15:43.123357Z"
    }
   },
   "outputs": [
    {
     "data": {
      "text/plain": [
       "{'id': 'edanmdm-saam_1971.439.94',\n",
       " 'unitCode': 'SAAM',\n",
       " 'title': 'Calavera for the Policeman',\n",
       " 'media_count': 1.0,\n",
       " 'media_id': 'SAAM-1971.439.94_1',\n",
       " 'topics': 'Occupations|Service|Policeman|Skeleton',\n",
       " 'object_type': 'Graphic Arts-Print',\n",
       " 'medium': 'woodcut',\n",
       " 'artist': 'José Guadalupe Posada, Mexican, Aguascalientes, Mexico 1852-died Mexico City, Mexico 1913'}"
      ]
     },
     "execution_count": 10,
     "metadata": {},
     "output_type": "execute_result"
    }
   ],
   "source": [
    "flattened_example = flatten(saam_example)\n",
    "flattened_example"
   ]
  },
  {
   "cell_type": "markdown",
   "metadata": {},
   "source": [
    "Finally, we send all 12,542 metadata records through the `flatten` function with the Dask `map` function, and ensure that the command is actually executed by using the `compute` function. Since `flatten` returns a single-level dictionary, we can convert the results of into a table using the `to_dataframe` function. Then we run `head` to look at the first 5 rows of this table."
   ]
  },
  {
   "cell_type": "code",
   "execution_count": 11,
   "metadata": {
    "ExecuteTime": {
     "end_time": "2020-07-21T18:16:01.971520Z",
     "start_time": "2020-07-21T18:15:43.128897Z"
    }
   },
   "outputs": [
    {
     "data": {
      "text/html": [
       "<div>\n",
       "<style scoped>\n",
       "    .dataframe tbody tr th:only-of-type {\n",
       "        vertical-align: middle;\n",
       "    }\n",
       "\n",
       "    .dataframe tbody tr th {\n",
       "        vertical-align: top;\n",
       "    }\n",
       "\n",
       "    .dataframe thead th {\n",
       "        text-align: right;\n",
       "    }\n",
       "</style>\n",
       "<table border=\"1\" class=\"dataframe\">\n",
       "  <thead>\n",
       "    <tr style=\"text-align: right;\">\n",
       "      <th></th>\n",
       "      <th>id</th>\n",
       "      <th>unitCode</th>\n",
       "      <th>title</th>\n",
       "      <th>media_count</th>\n",
       "      <th>media_id</th>\n",
       "      <th>topics</th>\n",
       "      <th>object_type</th>\n",
       "      <th>medium</th>\n",
       "      <th>artist</th>\n",
       "      <th>date</th>\n",
       "    </tr>\n",
       "  </thead>\n",
       "  <tbody>\n",
       "    <tr>\n",
       "      <th>0</th>\n",
       "      <td>edanmdm-saam_1971.439.94</td>\n",
       "      <td>SAAM</td>\n",
       "      <td>Calavera for the Policeman</td>\n",
       "      <td>1.0</td>\n",
       "      <td>SAAM-1971.439.94_1</td>\n",
       "      <td>Occupations|Service|Policeman|Skeleton</td>\n",
       "      <td>Graphic Arts-Print</td>\n",
       "      <td>woodcut</td>\n",
       "      <td>José Guadalupe Posada, Mexican, Aguascalientes...</td>\n",
       "      <td>NaN</td>\n",
       "    </tr>\n",
       "    <tr>\n",
       "      <th>1</th>\n",
       "      <td>edanmdm-saam_1915.5.1</td>\n",
       "      <td>SAAM</td>\n",
       "      <td>The Falling Gladiator</td>\n",
       "      <td>1.0</td>\n",
       "      <td>SAAM-1915.5.1_1</td>\n",
       "      <td>Sport|Occupations|Nudity|State of being|Figure...</td>\n",
       "      <td>Sculpture</td>\n",
       "      <td>plaster</td>\n",
       "      <td>William Rimmer, born Liverpool, England 1816-d...</td>\n",
       "      <td>1861</td>\n",
       "    </tr>\n",
       "    <tr>\n",
       "      <th>2</th>\n",
       "      <td>edanmdm-saam_1983.90.173</td>\n",
       "      <td>SAAM</td>\n",
       "      <td>The Sortie Made by the Garrison of Gibraltar i...</td>\n",
       "      <td>NaN</td>\n",
       "      <td>NaN</td>\n",
       "      <td>History</td>\n",
       "      <td>Graphic Arts-Print</td>\n",
       "      <td>engraving</td>\n",
       "      <td>William Sharp, English, born London, England 1...</td>\n",
       "      <td>1799</td>\n",
       "    </tr>\n",
       "    <tr>\n",
       "      <th>3</th>\n",
       "      <td>edanmdm-saam_1985.66.295_540</td>\n",
       "      <td>SAAM</td>\n",
       "      <td>Ta-do-udo-sa (Prairie Chicken)</td>\n",
       "      <td>1.0</td>\n",
       "      <td>SAAM-1985.66.295540_1</td>\n",
       "      <td>Ethnicity|Men|Portraits</td>\n",
       "      <td>Painting</td>\n",
       "      <td>oil on canvas</td>\n",
       "      <td>Antonion Zeno Shindler, 1813 Bulgaria-died Was...</td>\n",
       "      <td>ca. 1887</td>\n",
       "    </tr>\n",
       "    <tr>\n",
       "      <th>4</th>\n",
       "      <td>edanmdm-saam_1930.12.47</td>\n",
       "      <td>SAAM</td>\n",
       "      <td>Figure Study for Decorative Panel</td>\n",
       "      <td>1.0</td>\n",
       "      <td>SAAM-1930.12.47_1</td>\n",
       "      <td>Landscapes|Figure female|Nudity</td>\n",
       "      <td>Drawing</td>\n",
       "      <td>pencil and watercolor on paper mounted on pape...</td>\n",
       "      <td>Walter Shirlaw, born Paisley, Scotland 1838-di...</td>\n",
       "      <td>n.d.</td>\n",
       "    </tr>\n",
       "  </tbody>\n",
       "</table>\n",
       "</div>"
      ],
      "text/plain": [
       "                             id unitCode  \\\n",
       "0      edanmdm-saam_1971.439.94     SAAM   \n",
       "1         edanmdm-saam_1915.5.1     SAAM   \n",
       "2      edanmdm-saam_1983.90.173     SAAM   \n",
       "3  edanmdm-saam_1985.66.295_540     SAAM   \n",
       "4       edanmdm-saam_1930.12.47     SAAM   \n",
       "\n",
       "                                               title  media_count  \\\n",
       "0                         Calavera for the Policeman          1.0   \n",
       "1                              The Falling Gladiator          1.0   \n",
       "2  The Sortie Made by the Garrison of Gibraltar i...          NaN   \n",
       "3                     Ta-do-udo-sa (Prairie Chicken)          1.0   \n",
       "4                  Figure Study for Decorative Panel          1.0   \n",
       "\n",
       "                media_id                                             topics  \\\n",
       "0     SAAM-1971.439.94_1             Occupations|Service|Policeman|Skeleton   \n",
       "1        SAAM-1915.5.1_1  Sport|Occupations|Nudity|State of being|Figure...   \n",
       "2                    NaN                                            History   \n",
       "3  SAAM-1985.66.295540_1                            Ethnicity|Men|Portraits   \n",
       "4      SAAM-1930.12.47_1                    Landscapes|Figure female|Nudity   \n",
       "\n",
       "          object_type                                             medium  \\\n",
       "0  Graphic Arts-Print                                            woodcut   \n",
       "1           Sculpture                                            plaster   \n",
       "2  Graphic Arts-Print                                          engraving   \n",
       "3            Painting                                      oil on canvas   \n",
       "4             Drawing  pencil and watercolor on paper mounted on pape...   \n",
       "\n",
       "                                              artist      date  \n",
       "0  José Guadalupe Posada, Mexican, Aguascalientes...       NaN  \n",
       "1  William Rimmer, born Liverpool, England 1816-d...      1861  \n",
       "2  William Sharp, English, born London, England 1...      1799  \n",
       "3  Antonion Zeno Shindler, 1813 Bulgaria-died Was...  ca. 1887  \n",
       "4  Walter Shirlaw, born Paisley, Scotland 1838-di...      n.d.  "
      ]
     },
     "execution_count": 11,
     "metadata": {},
     "output_type": "execute_result"
    }
   ],
   "source": [
    "saam_json = b.map(flatten).compute()\n",
    "saam_df = pd.DataFrame(saam_json)\n",
    "saam_df.head()"
   ]
  },
  {
   "cell_type": "markdown",
   "metadata": {},
   "source": [
    "Taking a look at the structure of the `pandas` dataframe, we can see that some of the data fields are null."
   ]
  },
  {
   "cell_type": "code",
   "execution_count": 12,
   "metadata": {
    "ExecuteTime": {
     "end_time": "2020-07-21T18:16:01.988010Z",
     "start_time": "2020-07-21T18:16:01.972764Z"
    }
   },
   "outputs": [
    {
     "name": "stdout",
     "output_type": "stream",
     "text": [
      "<class 'pandas.core.frame.DataFrame'>\n",
      "RangeIndex: 12542 entries, 0 to 12541\n",
      "Data columns (total 10 columns):\n",
      " #   Column       Non-Null Count  Dtype  \n",
      "---  ------       --------------  -----  \n",
      " 0   id           12542 non-null  object \n",
      " 1   unitCode     12542 non-null  object \n",
      " 2   title        12542 non-null  object \n",
      " 3   media_count  11561 non-null  float64\n",
      " 4   media_id     11561 non-null  object \n",
      " 5   topics       11230 non-null  object \n",
      " 6   object_type  12542 non-null  object \n",
      " 7   medium       12100 non-null  object \n",
      " 8   artist       12389 non-null  object \n",
      " 9   date         10575 non-null  object \n",
      "dtypes: float64(1), object(9)\n",
      "memory usage: 980.0+ KB\n"
     ]
    }
   ],
   "source": [
    "saam_df.info()"
   ]
  },
  {
   "cell_type": "markdown",
   "metadata": {},
   "source": [
    "Let's look at the most common \"object_type\" and \"medium\" combinations amongst all SAAM works of art. We can see that the most common type of art is a painting created with oil on canvas."
   ]
  },
  {
   "cell_type": "code",
   "execution_count": 13,
   "metadata": {
    "ExecuteTime": {
     "end_time": "2020-07-21T18:16:02.105644Z",
     "start_time": "2020-07-21T18:16:02.091961Z"
    }
   },
   "outputs": [
    {
     "data": {
      "text/plain": [
       "object_type             medium                          \n",
       "Painting                oil on canvas                       1662\n",
       "                        watercolor on paper                  853\n",
       "Drawing                 pencil on paper                      642\n",
       "Graphic Arts-Print      wood engraving on paper              441\n",
       "Drawing                 drawing                              354\n",
       "Painting-Miniature      watercolor on ivory                  350\n",
       "Photography-Photoprint  albumen silver print                 268\n",
       "Graphic Arts-Print      lithograph                           223\n",
       "Decorative Arts-Glass   glass                                223\n",
       "Graphic Arts-Print      etching on paper                     214\n",
       "Sculpture               plaster                              209\n",
       "Drawing                 pencil                               201\n",
       "Graphic Arts-Print      etching                              194\n",
       "Painting                watercolor                           149\n",
       "Graphic Arts-Print      engraving                            149\n",
       "Painting                oil on wood                          137\n",
       "Graphic Arts-Print      hand-colored lithograph on paper     113\n",
       "                        lithograph on paper                  112\n",
       "                        wood engraving                       111\n",
       "Painting                watercolor and pencil on paper       110\n",
       "dtype: int64"
      ]
     },
     "execution_count": 13,
     "metadata": {},
     "output_type": "execute_result"
    }
   ],
   "source": [
    "saam_df.groupby(['object_type','medium']).size().sort_values(ascending=False).head(20)"
   ]
  },
  {
   "cell_type": "markdown",
   "metadata": {},
   "source": [
    "Since works of art have multiple topics listed, it is slightly more complicated to look at the most common topics."
   ]
  },
  {
   "cell_type": "code",
   "execution_count": 14,
   "metadata": {
    "ExecuteTime": {
     "end_time": "2020-07-21T18:16:02.111006Z",
     "start_time": "2020-07-21T18:16:02.106929Z"
    }
   },
   "outputs": [],
   "source": [
    "def count_topics(topic_column):\n",
    "    \"\"\"\n",
    "    Take the '|'-concatenated column from a pandas dataframe, and expand\n",
    "    it into a Counter object to see the most common individual topics.\n",
    "\n",
    "    Parameters\n",
    "    ----------\n",
    "    topic_column : pandas Series\n",
    "        A column from a metadata table. It is expected that multiple topics\n",
    "        are separated with a pipe symbol.\n",
    "\n",
    "    Returns\n",
    "    -------\n",
    "    topic_counts: Counter\n",
    "        A Python Counter object of each unique topic, and the number of times\n",
    "        that it is listed.\n",
    "    \"\"\"\n",
    "    topic_list = []\n",
    "    topics_entries = topic_column.dropna().tolist()\n",
    "    for topics_entry in topics_entries:\n",
    "        topics = topics_entry.split('|')\n",
    "        if len(topics):\n",
    "            topic_list += topics\n",
    "    topic_counts = Counter(topic_list)\n",
    "    return topic_counts"
   ]
  },
  {
   "cell_type": "markdown",
   "metadata": {},
   "source": [
    "Out of 12,542 works of art, there are 4,016 unique topics totally 56,927 total topics listed. We can see that \"Landscapes\" is the most common topic."
   ]
  },
  {
   "cell_type": "code",
   "execution_count": 15,
   "metadata": {
    "ExecuteTime": {
     "end_time": "2020-07-21T18:16:02.134122Z",
     "start_time": "2020-07-21T18:16:02.112901Z"
    }
   },
   "outputs": [
    {
     "name": "stdout",
     "output_type": "stream",
     "text": [
      "4016\n"
     ]
    },
    {
     "data": {
      "text/plain": [
       "[('Landscapes', 3368),\n",
       " ('Architecture', 2482),\n",
       " ('Portraits', 2459),\n",
       " ('Figure group', 2202),\n",
       " ('Men', 1988),\n",
       " ('Occupations', 1534),\n",
       " ('Ethnicity', 1375),\n",
       " ('Animals', 1354),\n",
       " ('Figure female', 1128),\n",
       " ('Women', 1062),\n",
       " ('Clothing and dress', 1003),\n",
       " ('Figure male', 814),\n",
       " ('Botanical study', 776),\n",
       " ('Religion', 751),\n",
       " ('Nudity', 707),\n",
       " ('Domestic', 704),\n",
       " ('Cityscapes', 625),\n",
       " ('Recreation', 558),\n",
       " ('Dress accessories', 554),\n",
       " ('Children', 517)]"
      ]
     },
     "execution_count": 15,
     "metadata": {},
     "output_type": "execute_result"
    }
   ],
   "source": [
    "topic_counts = count_topics(saam_df['topics'])\n",
    "\n",
    "print(len(topic_counts))\n",
    "topic_counts.most_common(20)"
   ]
  },
  {
   "cell_type": "markdown",
   "metadata": {},
   "source": [
    "Since 11,561 images is a lot to process, let's try to filter out all art that include people."
   ]
  },
  {
   "cell_type": "code",
   "execution_count": 16,
   "metadata": {
    "ExecuteTime": {
     "end_time": "2020-07-21T18:16:02.174792Z",
     "start_time": "2020-07-21T18:16:02.135887Z"
    }
   },
   "outputs": [
    {
     "data": {
      "text/html": [
       "<div>\n",
       "<style scoped>\n",
       "    .dataframe tbody tr th:only-of-type {\n",
       "        vertical-align: middle;\n",
       "    }\n",
       "\n",
       "    .dataframe tbody tr th {\n",
       "        vertical-align: top;\n",
       "    }\n",
       "\n",
       "    .dataframe thead th {\n",
       "        text-align: right;\n",
       "    }\n",
       "</style>\n",
       "<table border=\"1\" class=\"dataframe\">\n",
       "  <thead>\n",
       "    <tr style=\"text-align: right;\">\n",
       "      <th></th>\n",
       "      <th>id</th>\n",
       "      <th>unitCode</th>\n",
       "      <th>title</th>\n",
       "      <th>media_count</th>\n",
       "      <th>media_id</th>\n",
       "      <th>topics</th>\n",
       "      <th>object_type</th>\n",
       "      <th>medium</th>\n",
       "      <th>artist</th>\n",
       "      <th>date</th>\n",
       "    </tr>\n",
       "  </thead>\n",
       "  <tbody>\n",
       "    <tr>\n",
       "      <th>6</th>\n",
       "      <td>edanmdm-saam_1929.6.144</td>\n",
       "      <td>SAAM</td>\n",
       "      <td>The Brook, Greenwich, Connecticut</td>\n",
       "      <td>1.0</td>\n",
       "      <td>SAAM-1929.6.144_1</td>\n",
       "      <td>Landscapes|Rivers|Greenwich</td>\n",
       "      <td>Painting</td>\n",
       "      <td>oil on canvas</td>\n",
       "      <td>John Henry Twachtman, born Cincinnati, OH 1853...</td>\n",
       "      <td>ca. 1890-1900</td>\n",
       "    </tr>\n",
       "    <tr>\n",
       "      <th>20</th>\n",
       "      <td>edanmdm-saam_1991.56.271</td>\n",
       "      <td>SAAM</td>\n",
       "      <td>Nanfio</td>\n",
       "      <td>1.0</td>\n",
       "      <td>SAAM-1991.56.271_1</td>\n",
       "      <td>Mountains|Landscapes</td>\n",
       "      <td>Drawing</td>\n",
       "      <td>pencil on paper</td>\n",
       "      <td>Miner Kilbourne Kellogg, born Manlius Square, ...</td>\n",
       "      <td>1843</td>\n",
       "    </tr>\n",
       "    <tr>\n",
       "      <th>21</th>\n",
       "      <td>edanmdm-saam_1998.160.3</td>\n",
       "      <td>SAAM</td>\n",
       "      <td>Untitled from \"Atlantic and Great Western Rail...</td>\n",
       "      <td>NaN</td>\n",
       "      <td>NaN</td>\n",
       "      <td>Bridges|Atlantic and Great Western Railroad|Ra...</td>\n",
       "      <td>Photography-Photoprint</td>\n",
       "      <td>albumen silver print</td>\n",
       "      <td>J. F. Ryder, born Ithaca, NY 1826-died Clevela...</td>\n",
       "      <td>1860</td>\n",
       "    </tr>\n",
       "    <tr>\n",
       "      <th>25</th>\n",
       "      <td>edanmdm-saam_1983.83.171</td>\n",
       "      <td>SAAM</td>\n",
       "      <td>Rhine at the Lurlei</td>\n",
       "      <td>1.0</td>\n",
       "      <td>SAAM-1983.83.171_1</td>\n",
       "      <td>Lurlei|Landscapes|Art|Rhine River|Rivers</td>\n",
       "      <td>Drawing</td>\n",
       "      <td>pencil on paper</td>\n",
       "      <td>George Elbert Burr, born Monroe Falls, OH 1859...</td>\n",
       "      <td>1900</td>\n",
       "    </tr>\n",
       "    <tr>\n",
       "      <th>26</th>\n",
       "      <td>edanmdm-saam_1983.83.55</td>\n",
       "      <td>SAAM</td>\n",
       "      <td>Untitled (transfer drawing for Storm near Timb...</td>\n",
       "      <td>1.0</td>\n",
       "      <td>SAAM-1983.83.55_1</td>\n",
       "      <td>Trees|Western|Weather|Landscapes|Storms|Rocks</td>\n",
       "      <td>Drawing</td>\n",
       "      <td>pencil on paper</td>\n",
       "      <td>George Elbert Burr, born Monroe Falls, OH 1859...</td>\n",
       "      <td>ca. 1922</td>\n",
       "    </tr>\n",
       "  </tbody>\n",
       "</table>\n",
       "</div>"
      ],
      "text/plain": [
       "                          id unitCode  \\\n",
       "6    edanmdm-saam_1929.6.144     SAAM   \n",
       "20  edanmdm-saam_1991.56.271     SAAM   \n",
       "21   edanmdm-saam_1998.160.3     SAAM   \n",
       "25  edanmdm-saam_1983.83.171     SAAM   \n",
       "26   edanmdm-saam_1983.83.55     SAAM   \n",
       "\n",
       "                                                title  media_count  \\\n",
       "6                   The Brook, Greenwich, Connecticut          1.0   \n",
       "20                                             Nanfio          1.0   \n",
       "21  Untitled from \"Atlantic and Great Western Rail...          NaN   \n",
       "25                                Rhine at the Lurlei          1.0   \n",
       "26  Untitled (transfer drawing for Storm near Timb...          1.0   \n",
       "\n",
       "              media_id                                             topics  \\\n",
       "6    SAAM-1929.6.144_1                        Landscapes|Rivers|Greenwich   \n",
       "20  SAAM-1991.56.271_1                               Mountains|Landscapes   \n",
       "21                 NaN  Bridges|Atlantic and Great Western Railroad|Ra...   \n",
       "25  SAAM-1983.83.171_1           Lurlei|Landscapes|Art|Rhine River|Rivers   \n",
       "26   SAAM-1983.83.55_1      Trees|Western|Weather|Landscapes|Storms|Rocks   \n",
       "\n",
       "               object_type                medium  \\\n",
       "6                 Painting         oil on canvas   \n",
       "20                 Drawing       pencil on paper   \n",
       "21  Photography-Photoprint  albumen silver print   \n",
       "25                 Drawing       pencil on paper   \n",
       "26                 Drawing       pencil on paper   \n",
       "\n",
       "                                               artist           date  \n",
       "6   John Henry Twachtman, born Cincinnati, OH 1853...  ca. 1890-1900  \n",
       "20  Miner Kilbourne Kellogg, born Manlius Square, ...           1843  \n",
       "21  J. F. Ryder, born Ithaca, NY 1826-died Clevela...           1860  \n",
       "25  George Elbert Burr, born Monroe Falls, OH 1859...           1900  \n",
       "26  George Elbert Burr, born Monroe Falls, OH 1859...       ca. 1922  "
      ]
     },
     "execution_count": 16,
     "metadata": {},
     "output_type": "execute_result"
    }
   ],
   "source": [
    "include_topics = ['Landscapes','Architecture','Animals']\n",
    "exclude_topics = ['Portraits','Nudity','Ethnicity','Men','Women','Children',\n",
    "                'Figure male','Figure female','Figure group',\n",
    "                 'Botanical study']\n",
    "include_regex = '|'.join(include_topics)\n",
    "exclude_regex = '|'.join(exclude_topics)\n",
    "filtered_df = saam_df[(saam_df['topics'].str.contains(include_regex, regex=True).fillna(False)) & \\\n",
    "                 (~saam_df['topics'].str.contains(exclude_regex, regex=True).fillna(False))]\n",
    "filtered_df.head()"
   ]
  },
  {
   "cell_type": "markdown",
   "metadata": {},
   "source": [
    "After running this filter step, we are left with 1,573 unique topics from 2,816 works of art."
   ]
  },
  {
   "cell_type": "code",
   "execution_count": 17,
   "metadata": {
    "ExecuteTime": {
     "end_time": "2020-07-21T18:16:02.186931Z",
     "start_time": "2020-07-21T18:16:02.176329Z"
    }
   },
   "outputs": [
    {
     "name": "stdout",
     "output_type": "stream",
     "text": [
      "2816\n",
      "1573\n"
     ]
    },
    {
     "data": {
      "text/plain": [
       "[('Landscapes', 1979),\n",
       " ('Architecture', 1177),\n",
       " ('Animals', 634),\n",
       " ('Mountains', 379),\n",
       " ('Rivers', 315),\n",
       " ('Trees', 291),\n",
       " ('Cityscapes', 276),\n",
       " ('Boats and boating', 258),\n",
       " ('Domestic', 253),\n",
       " ('Waterscapes', 231),\n",
       " ('Religion', 225),\n",
       " ('Detail', 189),\n",
       " ('Dwellings', 166),\n",
       " ('Birds', 164),\n",
       " ('Coasts', 141),\n",
       " ('Time', 125),\n",
       " ('Water', 122),\n",
       " ('Weather', 119),\n",
       " ('Seasons', 119),\n",
       " ('Roads', 112)]"
      ]
     },
     "execution_count": 17,
     "metadata": {},
     "output_type": "execute_result"
    }
   ],
   "source": [
    "print(len(filtered_df))\n",
    "filtered_topics = count_topics(filtered_df['topics'])\n",
    "print(len(filtered_topics))\n",
    "filtered_topics.most_common(20)"
   ]
  },
  {
   "cell_type": "markdown",
   "metadata": {},
   "source": [
    "Finally, let's limit our search to only paintings. This gives us a target set of 808 images to download and process."
   ]
  },
  {
   "cell_type": "code",
   "execution_count": 18,
   "metadata": {
    "ExecuteTime": {
     "end_time": "2020-07-21T18:16:02.200630Z",
     "start_time": "2020-07-21T18:16:02.188233Z"
    }
   },
   "outputs": [
    {
     "data": {
      "text/html": [
       "<div>\n",
       "<style scoped>\n",
       "    .dataframe tbody tr th:only-of-type {\n",
       "        vertical-align: middle;\n",
       "    }\n",
       "\n",
       "    .dataframe tbody tr th {\n",
       "        vertical-align: top;\n",
       "    }\n",
       "\n",
       "    .dataframe thead th {\n",
       "        text-align: right;\n",
       "    }\n",
       "</style>\n",
       "<table border=\"1\" class=\"dataframe\">\n",
       "  <thead>\n",
       "    <tr style=\"text-align: right;\">\n",
       "      <th></th>\n",
       "      <th>id</th>\n",
       "      <th>unitCode</th>\n",
       "      <th>title</th>\n",
       "      <th>media_count</th>\n",
       "      <th>media_id</th>\n",
       "      <th>topics</th>\n",
       "      <th>object_type</th>\n",
       "      <th>medium</th>\n",
       "      <th>artist</th>\n",
       "      <th>date</th>\n",
       "    </tr>\n",
       "  </thead>\n",
       "  <tbody>\n",
       "    <tr>\n",
       "      <th>6</th>\n",
       "      <td>edanmdm-saam_1929.6.144</td>\n",
       "      <td>SAAM</td>\n",
       "      <td>The Brook, Greenwich, Connecticut</td>\n",
       "      <td>1.0</td>\n",
       "      <td>SAAM-1929.6.144_1</td>\n",
       "      <td>Landscapes|Rivers|Greenwich</td>\n",
       "      <td>Painting</td>\n",
       "      <td>oil on canvas</td>\n",
       "      <td>John Henry Twachtman, born Cincinnati, OH 1853...</td>\n",
       "      <td>ca. 1890-1900</td>\n",
       "    </tr>\n",
       "    <tr>\n",
       "      <th>34</th>\n",
       "      <td>edanmdm-saam_1967.136.6</td>\n",
       "      <td>SAAM</td>\n",
       "      <td>Mountains in Colorado</td>\n",
       "      <td>1.0</td>\n",
       "      <td>SAAM-1967.136.6_1</td>\n",
       "      <td>Mountains|Western|Landscapes|Rocks</td>\n",
       "      <td>Painting</td>\n",
       "      <td>oil on paper mounted on paperboard</td>\n",
       "      <td>John Frederick Kensett, born Cheshire, CT 1816...</td>\n",
       "      <td>1870</td>\n",
       "    </tr>\n",
       "    <tr>\n",
       "      <th>36</th>\n",
       "      <td>edanmdm-saam_1958.5.3</td>\n",
       "      <td>SAAM</td>\n",
       "      <td>Above Tower Falls, Yellowstone</td>\n",
       "      <td>1.0</td>\n",
       "      <td>SAAM-1958.5.3_1</td>\n",
       "      <td>Yellowstone National Park|Landscapes|Tower Fal...</td>\n",
       "      <td>Painting</td>\n",
       "      <td>watercolor and gouache on paper</td>\n",
       "      <td>Thomas Moran, born Bolton, England 1837-died S...</td>\n",
       "      <td>1872</td>\n",
       "    </tr>\n",
       "    <tr>\n",
       "      <th>37</th>\n",
       "      <td>edanmdm-saam_1984.50</td>\n",
       "      <td>SAAM</td>\n",
       "      <td>The Departure of the Crusaders</td>\n",
       "      <td>1.0</td>\n",
       "      <td>SAAM-1984.50_2</td>\n",
       "      <td>Bishop|Crusades|Architecture|Procession|Occupa...</td>\n",
       "      <td>Painting</td>\n",
       "      <td>oil on canvas</td>\n",
       "      <td>Victor Nehlig, born Paris, France 1830-died Ne...</td>\n",
       "      <td>1863</td>\n",
       "    </tr>\n",
       "    <tr>\n",
       "      <th>39</th>\n",
       "      <td>edanmdm-saam_1973.150</td>\n",
       "      <td>SAAM</td>\n",
       "      <td>The Yacht America</td>\n",
       "      <td>1.0</td>\n",
       "      <td>SAAM-1973.150_1</td>\n",
       "      <td>Boats and boating|Architecture|Yacht|Waterscap...</td>\n",
       "      <td>Painting</td>\n",
       "      <td>oil on canvas</td>\n",
       "      <td>Charles S. Raleigh, born Gloucester, England 1...</td>\n",
       "      <td>1877</td>\n",
       "    </tr>\n",
       "  </tbody>\n",
       "</table>\n",
       "</div>"
      ],
      "text/plain": [
       "                         id unitCode                              title  \\\n",
       "6   edanmdm-saam_1929.6.144     SAAM  The Brook, Greenwich, Connecticut   \n",
       "34  edanmdm-saam_1967.136.6     SAAM              Mountains in Colorado   \n",
       "36    edanmdm-saam_1958.5.3     SAAM     Above Tower Falls, Yellowstone   \n",
       "37     edanmdm-saam_1984.50     SAAM     The Departure of the Crusaders   \n",
       "39    edanmdm-saam_1973.150     SAAM                  The Yacht America   \n",
       "\n",
       "    media_count           media_id  \\\n",
       "6           1.0  SAAM-1929.6.144_1   \n",
       "34          1.0  SAAM-1967.136.6_1   \n",
       "36          1.0    SAAM-1958.5.3_1   \n",
       "37          1.0     SAAM-1984.50_2   \n",
       "39          1.0    SAAM-1973.150_1   \n",
       "\n",
       "                                               topics object_type  \\\n",
       "6                         Landscapes|Rivers|Greenwich    Painting   \n",
       "34                 Mountains|Western|Landscapes|Rocks    Painting   \n",
       "36  Yellowstone National Park|Landscapes|Tower Fal...    Painting   \n",
       "37  Bishop|Crusades|Architecture|Procession|Occupa...    Painting   \n",
       "39  Boats and boating|Architecture|Yacht|Waterscap...    Painting   \n",
       "\n",
       "                                medium  \\\n",
       "6                        oil on canvas   \n",
       "34  oil on paper mounted on paperboard   \n",
       "36     watercolor and gouache on paper   \n",
       "37                       oil on canvas   \n",
       "39                       oil on canvas   \n",
       "\n",
       "                                               artist           date  \n",
       "6   John Henry Twachtman, born Cincinnati, OH 1853...  ca. 1890-1900  \n",
       "34  John Frederick Kensett, born Cheshire, CT 1816...           1870  \n",
       "36  Thomas Moran, born Bolton, England 1837-died S...           1872  \n",
       "37  Victor Nehlig, born Paris, France 1830-died Ne...           1863  \n",
       "39  Charles S. Raleigh, born Gloucester, England 1...           1877  "
      ]
     },
     "execution_count": 18,
     "metadata": {},
     "output_type": "execute_result"
    }
   ],
   "source": [
    "filtered_paintings = filtered_df[filtered_df['object_type'] == 'Painting']\n",
    "filtered_paintings.head()"
   ]
  },
  {
   "cell_type": "code",
   "execution_count": 19,
   "metadata": {},
   "outputs": [],
   "source": [
    "filtered_paintings.to_csv('saam_painting_metadata.tsv', index=False, sep='\\t')"
   ]
  },
  {
   "cell_type": "code",
   "execution_count": 20,
   "metadata": {
    "ExecuteTime": {
     "end_time": "2020-07-21T18:16:02.208147Z",
     "start_time": "2020-07-21T18:16:02.202368Z"
    }
   },
   "outputs": [
    {
     "data": {
      "text/plain": [
       "['SAAM-1929.6.144_1',\n",
       " 'SAAM-1967.136.6_1',\n",
       " 'SAAM-1958.5.3_1',\n",
       " 'SAAM-1984.50_2',\n",
       " 'SAAM-1973.150_1',\n",
       " 'SAAM-1985.66.385_1',\n",
       " 'SAAM-1909.7.51_1',\n",
       " 'SAAM-1983.95.91_1',\n",
       " 'SAAM-1972.2.12_1',\n",
       " 'SAAM-1978.68_1']"
      ]
     },
     "execution_count": 20,
     "metadata": {},
     "output_type": "execute_result"
    }
   ],
   "source": [
    "painting_ids = filtered_paintings['media_id'].dropna().tolist()\n",
    "painting_ids[:10]"
   ]
  },
  {
   "cell_type": "markdown",
   "metadata": {},
   "source": [
    "## Download image files from S3"
   ]
  },
  {
   "cell_type": "markdown",
   "metadata": {},
   "source": [
    "This section of the demo can actually be skipped, since the GitHub repository already has all thumbnails included, and this is the slowest part of the demo (around 4 minutes)."
   ]
  },
  {
   "cell_type": "code",
   "execution_count": 21,
   "metadata": {
    "ExecuteTime": {
     "end_time": "2020-07-21T18:16:02.344919Z",
     "start_time": "2020-07-21T18:16:02.340764Z"
    }
   },
   "outputs": [],
   "source": [
    "def download_thumbnail(edan_id):\n",
    "    \"\"\"\n",
    "    Opens a full-size image from S3, compresses it to thumbnail, and writes \n",
    "    it to disk. Harcoded for SAAM images, and to save to saam_thumbnails directory.\n",
    "\n",
    "    Parameters\n",
    "    ----------\n",
    "    edan_id : string\n",
    "        The Smithsonian Enterprise Digital Asset Network (EDAN) ID of the object\n",
    "        to download.\n",
    "\n",
    "    \"\"\"\n",
    "    thumb_size = (500, 500)\n",
    "    s3_url = f'smithsonian-open-access/media/saam/{edan_id}.jpg'\n",
    "    file_dest = f'saam_thumbnails/{edan_id}.jpg'\n",
    "    with fs.open(s3_url,'rb') as s3_image:\n",
    "        pil_image = Image.open(s3_image)\n",
    "        pil_image.thumbnail(thumb_size)\n",
    "        pil_image.save(file_dest)\n",
    "    return"
   ]
  },
  {
   "cell_type": "markdown",
   "metadata": {},
   "source": [
    "Un-comment the code block below (by removing the # at the beginning of each line) if you would like to run this download step anyways."
   ]
  },
  {
   "cell_type": "code",
   "execution_count": 22,
   "metadata": {
    "ExecuteTime": {
     "end_time": "2020-07-21T18:16:02.350685Z",
     "start_time": "2020-07-21T18:16:02.348710Z"
    }
   },
   "outputs": [],
   "source": [
    "#start = time.time()\n",
    "#futures = client.map(download_thumbnail, painting_ids)\n",
    "#results = client.gather(futures)\n",
    "#end = time.time()\n",
    "#print(end - start)"
   ]
  },
  {
   "cell_type": "markdown",
   "metadata": {},
   "source": [
    "## Producing image feature vectors with TensorFlow"
   ]
  },
  {
   "cell_type": "markdown",
   "metadata": {},
   "source": [
    "Now that we have all of our painting images downloaded into the \"saam_thumbnails\" directory, we can do some processing on them.\n",
    "\n",
    "For this demonstration, we will attempt to use a broad machine learning technique called \"unsupervised learning\" (https://en.wikipedia.org/wiki/Unsupervised_learning) to cluster similar images together, and learn a little bit about our collection.\n",
    "\n",
    "Specifically, we will be using a pre-trained photographic image classifier called MobileNetV2 (https://arxiv.org/abs/1801.04381) to extract a numerical \"feature vector\" representation of each image, which can then be used to calculate image-to-image distances. We will then feed those vectors into the UMAP (https://arxiv.org/abs/1802.03426) algorithm, which reduces our multi-thousand dimensional feature space down to an easy-to-interpret 2-dimensional representation."
   ]
  },
  {
   "cell_type": "code",
   "execution_count": 23,
   "metadata": {
    "ExecuteTime": {
     "end_time": "2020-07-21T18:16:09.593105Z",
     "start_time": "2020-07-21T18:16:02.352193Z"
    }
   },
   "outputs": [],
   "source": [
    "import tensorflow as tf\n",
    "from umap import UMAP\n",
    "import os\n",
    "from PIL import Image\n",
    "from sklearn.decomposition import PCA\n",
    "from sklearn.preprocessing import minmax_scale\n",
    "import matplotlib.pyplot as plt\n",
    "%matplotlib inline"
   ]
  },
  {
   "cell_type": "markdown",
   "metadata": {},
   "source": [
    "First, we use the TensorFlow Keras deep learning library to load the pre-trained MobileNetV2 ImageNet image classification model. This model was trained on the ImageNet (https://en.wikipedia.org/wiki/ImageNet) benchmark image dataset that contains millions of photographic images from 1000 labeled categories. This model consists of over 150 connected \"layers\" (this is where the deep in deep learning comes from) that each performs computational transformations on the image data to eventually return a prediction of which label category an image belongs to. The final layer, called \"predictions\" in the summary output below, takes the numerical representation of the image and provides \"probabilities\" for each of the 1000 category classes."
   ]
  },
  {
   "cell_type": "code",
   "execution_count": 24,
   "metadata": {
    "ExecuteTime": {
     "end_time": "2020-07-21T18:16:09.595055Z",
     "start_time": "2020-07-21T18:15:36.468Z"
    }
   },
   "outputs": [],
   "source": [
    "mobilenet_base = tf.keras.applications.MobileNetV2(include_top=True, \n",
    "                                                   weights='imagenet', \n",
    "                                                   pooling='avg')"
   ]
  },
  {
   "cell_type": "code",
   "execution_count": 25,
   "metadata": {},
   "outputs": [
    {
     "name": "stdout",
     "output_type": "stream",
     "text": [
      "Model: \"mobilenetv2_1.00_224\"\n",
      "__________________________________________________________________________________________________\n",
      "Layer (type)                    Output Shape         Param #     Connected to                     \n",
      "==================================================================================================\n",
      "input_1 (InputLayer)            [(None, 224, 224, 3) 0                                            \n",
      "__________________________________________________________________________________________________\n",
      "Conv1_pad (ZeroPadding2D)       (None, 225, 225, 3)  0           input_1[0][0]                    \n",
      "__________________________________________________________________________________________________\n",
      "Conv1 (Conv2D)                  (None, 112, 112, 32) 864         Conv1_pad[0][0]                  \n",
      "__________________________________________________________________________________________________\n",
      "bn_Conv1 (BatchNormalization)   (None, 112, 112, 32) 128         Conv1[0][0]                      \n",
      "__________________________________________________________________________________________________\n",
      "Conv1_relu (ReLU)               (None, 112, 112, 32) 0           bn_Conv1[0][0]                   \n",
      "__________________________________________________________________________________________________\n",
      "expanded_conv_depthwise (Depthw (None, 112, 112, 32) 288         Conv1_relu[0][0]                 \n",
      "\n",
      "...\n",
      "\n",
      "__________________________________________________________________________________________________\n",
      "Conv_1 (Conv2D)                 (None, 7, 7, 1280)   409600      block_16_project_BN[0][0]        \n",
      "__________________________________________________________________________________________________\n",
      "Conv_1_bn (BatchNormalization)  (None, 7, 7, 1280)   5120        Conv_1[0][0]                     \n",
      "__________________________________________________________________________________________________\n",
      "out_relu (ReLU)                 (None, 7, 7, 1280)   0           Conv_1_bn[0][0]                  \n",
      "__________________________________________________________________________________________________\n",
      "global_average_pooling2d (Globa (None, 1280)         0           out_relu[0][0]                   \n",
      "__________________________________________________________________________________________________\n",
      "predictions (Dense)             (None, 1000)         1281000     global_average_pooling2d[0][0]   \n",
      "==================================================================================================\n",
      "Total params: 3,538,984\n",
      "Trainable params: 3,504,872\n",
      "Non-trainable params: 34,112\n",
      "__________________________________________________________________________________________________\n"
     ]
    }
   ],
   "source": [
    "layer_strings = []\n",
    "mobilenet_base.summary(print_fn = lambda x: layer_strings.append(x))\n",
    "print('\\n'.join(layer_strings[:15]))\n",
    "print('\\n...\\n')\n",
    "print('\\n'.join(layer_strings[-15:]))"
   ]
  },
  {
   "cell_type": "markdown",
   "metadata": {},
   "source": [
    "However, for the use case of clustering, we're not necessarily after the classifications. So we remove the final layer from the model, and save this new model as \"mobilenet_features\"."
   ]
  },
  {
   "cell_type": "code",
   "execution_count": 26,
   "metadata": {
    "ExecuteTime": {
     "end_time": "2020-07-21T18:16:09.596040Z",
     "start_time": "2020-07-21T18:15:36.470Z"
    }
   },
   "outputs": [],
   "source": [
    "mobilenet_features = tf.keras.Model(inputs=mobilenet_base.input, \n",
    "                                    outputs=mobilenet_base.layers[-2].output)"
   ]
  },
  {
   "cell_type": "markdown",
   "metadata": {},
   "source": [
    "Next, we create a Python function that will take an image path, resize the image to the specified MobileNetV2 input size (224 x 224 pixels), and then convert it to a 3-dimensional matrix of values (a 2-dimensional pixel value matrix for the Red, Green, and Blue color \"channels\" of each image)."
   ]
  },
  {
   "cell_type": "code",
   "execution_count": 27,
   "metadata": {
    "ExecuteTime": {
     "end_time": "2020-07-21T18:16:09.597094Z",
     "start_time": "2020-07-21T18:15:36.472Z"
    }
   },
   "outputs": [],
   "source": [
    "def path_to_array(image_path):\n",
    "    \"\"\"\n",
    "    Reads in an image from disk, resizes it using the Pillow library, converts\n",
    "    it to a Numpy array, and then runs MobileNetV2-specific preprocessing.\n",
    "\n",
    "    Parameters\n",
    "    ----------\n",
    "    image_path : string\n",
    "        Local file path to an image file.\n",
    "\n",
    "    Returns\n",
    "    -------\n",
    "    im: Numpy array\n",
    "        A processed Numpy array that is ready to be fed into the MobileNetV2\n",
    "        Keras model.\n",
    "    \"\"\"\n",
    "    pil_image = Image.open(image_path).resize((224,224), Image.ANTIALIAS)\n",
    "    np_image = np.array(pil_image)\n",
    "    np_image = np.expand_dims(np_image, axis=0)\n",
    "    im = tf.keras.applications.mobilenet_v2.preprocess_input(np_image)\n",
    "    return im"
   ]
  },
  {
   "cell_type": "markdown",
   "metadata": {},
   "source": [
    "Next, we run all of our images through this model and then \"stack\" all of these image matrices together into a single matrix, so that we can take advantage of the model's batch prediction functionality. Finally, we feed this image matrix into the \"mobilenet_features\" predict function to return a 1280-value \"feature vector\" interpretation of the input image."
   ]
  },
  {
   "cell_type": "code",
   "execution_count": 28,
   "metadata": {
    "ExecuteTime": {
     "end_time": "2020-07-21T18:16:09.598452Z",
     "start_time": "2020-07-21T18:15:36.474Z"
    }
   },
   "outputs": [
    {
     "name": "stdout",
     "output_type": "stream",
     "text": [
      "21.531198024749756\n"
     ]
    }
   ],
   "source": [
    "start = time.time()\n",
    "images = []\n",
    "for image_id in painting_ids:\n",
    "    painting_path = f'saam_thumbnails/{image_id}.jpg'\n",
    "    img = path_to_array(painting_path)\n",
    "    images.append(img)\n",
    "    \n",
    "image_stack = np.vstack(images)\n",
    "feature_vector = mobilenet_features.predict(image_stack, batch_size=32)\n",
    "end = time.time()\n",
    "print(end - start)"
   ]
  },
  {
   "cell_type": "markdown",
   "metadata": {},
   "source": [
    "We can see we now have an 808 (1 entry for each of 808 filtered paintings) x 1280 (from the MobileNetV2 feature vector) matrix."
   ]
  },
  {
   "cell_type": "code",
   "execution_count": 29,
   "metadata": {
    "ExecuteTime": {
     "end_time": "2020-07-21T18:16:09.599483Z",
     "start_time": "2020-07-21T18:15:36.476Z"
    }
   },
   "outputs": [
    {
     "data": {
      "text/plain": [
       "(808, 1280)"
      ]
     },
     "execution_count": 29,
     "metadata": {},
     "output_type": "execute_result"
    }
   ],
   "source": [
    "feature_vector.shape"
   ]
  },
  {
   "cell_type": "code",
   "execution_count": 30,
   "metadata": {},
   "outputs": [],
   "source": [
    "with open('saam_painting_feature_vectors.npy','wb') as np_out:\n",
    "    np.save(np_out, feature_vector)"
   ]
  },
  {
   "cell_type": "markdown",
   "metadata": {},
   "source": [
    "## Clustering images with UMAP"
   ]
  },
  {
   "cell_type": "markdown",
   "metadata": {},
   "source": [
    "Now that we have 808 feature vectors, we can process them with the UMAP algorithm to cluster similar images together. We can see in this graph, which plots each image as a semi-transparent point on a scatterplot, that there are certain areas where many paintings cluster very closely together."
   ]
  },
  {
   "cell_type": "code",
   "execution_count": 31,
   "metadata": {
    "ExecuteTime": {
     "end_time": "2020-07-21T18:16:09.600924Z",
     "start_time": "2020-07-21T18:15:36.477Z"
    }
   },
   "outputs": [
    {
     "data": {
      "text/plain": [
       "<matplotlib.collections.PathCollection at 0x19090e1c0>"
      ]
     },
     "execution_count": 31,
     "metadata": {},
     "output_type": "execute_result"
    },
    {
     "data": {
      "image/png": "[encoded data removed]",
      "text/plain": [
       "<Figure size 432x288 with 1 Axes>"
      ]
     },
     "metadata": {
      "needs_background": "light"
     },
     "output_type": "display_data"
    }
   ],
   "source": [
    "embedding = UMAP(n_neighbors=6, \n",
    "                 min_dist=0.01, \n",
    "                 metric='correlation').fit_transform(feature_vector)\n",
    "\n",
    "plt.scatter(embedding[:,0], embedding[:,1],\n",
    "            alpha=0.2)"
   ]
  },
  {
   "cell_type": "markdown",
   "metadata": {},
   "source": [
    "Next, we take these image \"locations\" from the UMAP output, and convert these into a normalized table."
   ]
  },
  {
   "cell_type": "code",
   "execution_count": 32,
   "metadata": {
    "ExecuteTime": {
     "end_time": "2020-07-21T18:16:09.601840Z",
     "start_time": "2020-07-21T18:15:36.479Z"
    }
   },
   "outputs": [
    {
     "data": {
      "text/html": [
       "<div>\n",
       "<style scoped>\n",
       "    .dataframe tbody tr th:only-of-type {\n",
       "        vertical-align: middle;\n",
       "    }\n",
       "\n",
       "    .dataframe tbody tr th {\n",
       "        vertical-align: top;\n",
       "    }\n",
       "\n",
       "    .dataframe thead th {\n",
       "        text-align: right;\n",
       "    }\n",
       "</style>\n",
       "<table border=\"1\" class=\"dataframe\">\n",
       "  <thead>\n",
       "    <tr style=\"text-align: right;\">\n",
       "      <th></th>\n",
       "      <th>x</th>\n",
       "      <th>y</th>\n",
       "    </tr>\n",
       "  </thead>\n",
       "  <tbody>\n",
       "    <tr>\n",
       "      <th>SAAM-1929.6.144_1</th>\n",
       "      <td>0.508578</td>\n",
       "      <td>0.707142</td>\n",
       "    </tr>\n",
       "    <tr>\n",
       "      <th>SAAM-1967.136.6_1</th>\n",
       "      <td>0.987404</td>\n",
       "      <td>0.580644</td>\n",
       "    </tr>\n",
       "    <tr>\n",
       "      <th>SAAM-1958.5.3_1</th>\n",
       "      <td>0.949186</td>\n",
       "      <td>0.685677</td>\n",
       "    </tr>\n",
       "    <tr>\n",
       "      <th>SAAM-1984.50_2</th>\n",
       "      <td>0.798967</td>\n",
       "      <td>0.601339</td>\n",
       "    </tr>\n",
       "    <tr>\n",
       "      <th>SAAM-1973.150_1</th>\n",
       "      <td>0.862443</td>\n",
       "      <td>0.093245</td>\n",
       "    </tr>\n",
       "  </tbody>\n",
       "</table>\n",
       "</div>"
      ],
      "text/plain": [
       "                          x         y\n",
       "SAAM-1929.6.144_1  0.508578  0.707142\n",
       "SAAM-1967.136.6_1  0.987404  0.580644\n",
       "SAAM-1958.5.3_1    0.949186  0.685677\n",
       "SAAM-1984.50_2     0.798967  0.601339\n",
       "SAAM-1973.150_1    0.862443  0.093245"
      ]
     },
     "execution_count": 32,
     "metadata": {},
     "output_type": "execute_result"
    }
   ],
   "source": [
    "embedding_normalized = minmax_scale(embedding)\n",
    "df = pd.DataFrame(embedding_normalized, index=painting_ids, columns = ['x','y'])\n",
    "df.head()"
   ]
  },
  {
   "cell_type": "code",
   "execution_count": 33,
   "metadata": {
    "ExecuteTime": {
     "end_time": "2020-07-21T18:16:09.602980Z",
     "start_time": "2020-07-21T18:15:36.481Z"
    }
   },
   "outputs": [
    {
     "data": {
      "text/html": [
       "<div>\n",
       "<style scoped>\n",
       "    .dataframe tbody tr th:only-of-type {\n",
       "        vertical-align: middle;\n",
       "    }\n",
       "\n",
       "    .dataframe tbody tr th {\n",
       "        vertical-align: top;\n",
       "    }\n",
       "\n",
       "    .dataframe thead th {\n",
       "        text-align: right;\n",
       "    }\n",
       "</style>\n",
       "<table border=\"1\" class=\"dataframe\">\n",
       "  <thead>\n",
       "    <tr style=\"text-align: right;\">\n",
       "      <th></th>\n",
       "      <th>x</th>\n",
       "      <th>y</th>\n",
       "    </tr>\n",
       "  </thead>\n",
       "  <tbody>\n",
       "    <tr>\n",
       "      <th>SAAM-1985.66.352_1</th>\n",
       "      <td>0.898060</td>\n",
       "      <td>0.815729</td>\n",
       "    </tr>\n",
       "    <tr>\n",
       "      <th>SAAM-1983.95.117_1</th>\n",
       "      <td>0.616291</td>\n",
       "      <td>0.850602</td>\n",
       "    </tr>\n",
       "    <tr>\n",
       "      <th>SAAM-1940.9.1_1</th>\n",
       "      <td>0.626627</td>\n",
       "      <td>0.915389</td>\n",
       "    </tr>\n",
       "    <tr>\n",
       "      <th>SAAM-1962.4.6_1</th>\n",
       "      <td>0.765621</td>\n",
       "      <td>0.703215</td>\n",
       "    </tr>\n",
       "    <tr>\n",
       "      <th>SAAM-1962.13.20A_1</th>\n",
       "      <td>0.264494</td>\n",
       "      <td>0.298959</td>\n",
       "    </tr>\n",
       "  </tbody>\n",
       "</table>\n",
       "</div>"
      ],
      "text/plain": [
       "                           x         y\n",
       "SAAM-1985.66.352_1  0.898060  0.815729\n",
       "SAAM-1983.95.117_1  0.616291  0.850602\n",
       "SAAM-1940.9.1_1     0.626627  0.915389\n",
       "SAAM-1962.4.6_1     0.765621  0.703215\n",
       "SAAM-1962.13.20A_1  0.264494  0.298959"
      ]
     },
     "execution_count": 33,
     "metadata": {},
     "output_type": "execute_result"
    }
   ],
   "source": [
    "df = df.sample(frac=1, random_state=100)\n",
    "df.head()"
   ]
  },
  {
   "cell_type": "markdown",
   "metadata": {},
   "source": [
    "Next, we create a 2500 x 5000 pixel blank \"canvas\" and then convert those UMAP locations into canvas locations, where we \"paste\" each of our painting images."
   ]
  },
  {
   "cell_type": "code",
   "execution_count": 34,
   "metadata": {
    "ExecuteTime": {
     "end_time": "2020-07-21T18:16:09.604395Z",
     "start_time": "2020-07-21T18:15:36.483Z"
    }
   },
   "outputs": [
    {
     "data": {
      "text/plain": [
       "<matplotlib.image.AxesImage at 0x190e48070>"
      ]
     },
     "execution_count": 34,
     "metadata": {},
     "output_type": "execute_result"
    },
    {
     "data": {
      "image/png": "[encoded data removed]",
      "text/plain": [
       "<Figure size 432x288 with 1 Axes>"
      ]
     },
     "metadata": {
      "needs_background": "light"
     },
     "output_type": "display_data"
    }
   ],
   "source": [
    "CANVAS_HEIGHT = 2500\n",
    "CANVAS_WIDTH = 5000\n",
    "canvas = np.full((CANVAS_HEIGHT+500,CANVAS_WIDTH+500,3),255, dtype=np.uint8)\n",
    "\n",
    "THUMBNAIL_SIZE = 500,500\n",
    "\n",
    "for row in df[::-1].itertuples():\n",
    "    image_path = os.path.join('saam_thumbnails', row.Index) + '.jpg'\n",
    "    x_pos = round(row.x * CANVAS_WIDTH)\n",
    "    y_pos = CANVAS_HEIGHT - round(row.y * CANVAS_HEIGHT)\n",
    "\n",
    "    pil_image = Image.open(image_path)\n",
    "    pil_image.thumbnail(THUMBNAIL_SIZE)\n",
    "    np_image = np.array(pil_image)\n",
    "    canvas[y_pos:np_image.shape[0]+y_pos,\n",
    "           x_pos:np_image.shape[1]+x_pos] = np_image    \n",
    "plt.imshow(canvas)"
   ]
  },
  {
   "cell_type": "markdown",
   "metadata": {},
   "source": [
    "That tiny plot in this notebook is hard to see clearly, so let's output it to file so that we can zoom in on the details … and maybe print out a poster if you like."
   ]
  },
  {
   "cell_type": "code",
   "execution_count": 35,
   "metadata": {
    "ExecuteTime": {
     "end_time": "2020-07-21T18:16:09.606307Z",
     "start_time": "2020-07-21T18:15:36.484Z"
    }
   },
   "outputs": [],
   "source": [
    "saam_umap = Image.fromarray(canvas)\n",
    "saam_umap.save('saam_umap.png')"
   ]
  },
  {
   "cell_type": "code",
   "execution_count": null,
   "metadata": {},
   "outputs": [],
   "source": []
  }
 ],
 "metadata": {
  "kernelspec": {
   "display_name": "Python 3",
   "language": "python",
   "name": "python3"
  },
  "language_info": {
   "codemirror_mode": {
    "name": "ipython",
    "version": 3
   },
   "file_extension": ".py",
   "mimetype": "text/x-python",
   "name": "python",
   "nbconvert_exporter": "python",
   "pygments_lexer": "ipython3",
   "version": "3.8.4"
  }
 },
 "nbformat": 4,
 "nbformat_minor": 4
}
