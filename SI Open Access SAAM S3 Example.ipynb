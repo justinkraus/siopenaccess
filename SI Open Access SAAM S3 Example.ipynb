{
 "cells": [
  {
   "cell_type": "code",
   "execution_count": 20,
   "metadata": {
    "ExecuteTime": {
     "end_time": "2020-06-04T19:33:37.521702Z",
     "start_time": "2020-06-04T19:33:37.518802Z"
    }
   },
   "outputs": [],
   "source": [
    "from dask.distributed import Client\n",
    "import dask.bag as db\n",
    "import json\n",
    "from collections import Counter\n",
    "import time\n",
    "import numpy as np\n",
    "import pandas as pd\n",
    "import s3fs\n",
    "from PIL import Image\n"
   ]
  },
  {
   "cell_type": "code",
   "execution_count": 2,
   "metadata": {
    "ExecuteTime": {
     "end_time": "2020-06-04T19:23:28.017399Z",
     "start_time": "2020-06-04T19:23:27.432967Z"
    }
   },
   "outputs": [
    {
     "data": {
      "text/plain": [
       "['smithsonian-open-access/media', 'smithsonian-open-access/metadata']"
      ]
     },
     "execution_count": 2,
     "metadata": {},
     "output_type": "execute_result"
    }
   ],
   "source": [
    "fs = s3fs.S3FileSystem(anon=True)\n",
    "fs.ls('smithsonian-open-access')"
   ]
  },
  {
   "cell_type": "code",
   "execution_count": 3,
   "metadata": {
    "ExecuteTime": {
     "end_time": "2020-06-04T19:23:44.253392Z",
     "start_time": "2020-06-04T19:23:43.775394Z"
    }
   },
   "outputs": [
    {
     "data": {
      "text/plain": [
       "['smithsonian-open-access/metadata/edan/acah',\n",
       " 'smithsonian-open-access/metadata/edan/acm',\n",
       " 'smithsonian-open-access/metadata/edan/cfchfolklife',\n",
       " 'smithsonian-open-access/metadata/edan/chndm',\n",
       " 'smithsonian-open-access/metadata/edan/fbr',\n",
       " 'smithsonian-open-access/metadata/edan/fs',\n",
       " 'smithsonian-open-access/metadata/edan/fsa',\n",
       " 'smithsonian-open-access/metadata/edan/fsg',\n",
       " 'smithsonian-open-access/metadata/edan/hac',\n",
       " 'smithsonian-open-access/metadata/edan/hmsg',\n",
       " 'smithsonian-open-access/metadata/edan/hsfa',\n",
       " 'smithsonian-open-access/metadata/edan/naa',\n",
       " 'smithsonian-open-access/metadata/edan/nasm',\n",
       " 'smithsonian-open-access/metadata/edan/nmaahc',\n",
       " 'smithsonian-open-access/metadata/edan/nmafa',\n",
       " 'smithsonian-open-access/metadata/edan/nmah',\n",
       " 'smithsonian-open-access/metadata/edan/nmai',\n",
       " 'smithsonian-open-access/metadata/edan/nmnhanthro',\n",
       " 'smithsonian-open-access/metadata/edan/nmnhbirds',\n",
       " 'smithsonian-open-access/metadata/edan/nmnhbotany',\n",
       " 'smithsonian-open-access/metadata/edan/nmnheducation',\n",
       " 'smithsonian-open-access/metadata/edan/nmnhento',\n",
       " 'smithsonian-open-access/metadata/edan/nmnhfishes',\n",
       " 'smithsonian-open-access/metadata/edan/nmnhherps',\n",
       " 'smithsonian-open-access/metadata/edan/nmnhinv',\n",
       " 'smithsonian-open-access/metadata/edan/nmnhmammals',\n",
       " 'smithsonian-open-access/metadata/edan/nmnhminsci',\n",
       " 'smithsonian-open-access/metadata/edan/nmnhpaleo',\n",
       " 'smithsonian-open-access/metadata/edan/npg',\n",
       " 'smithsonian-open-access/metadata/edan/npm',\n",
       " 'smithsonian-open-access/metadata/edan/nzp',\n",
       " 'smithsonian-open-access/metadata/edan/saam',\n",
       " 'smithsonian-open-access/metadata/edan/si',\n",
       " 'smithsonian-open-access/metadata/edan/sia',\n",
       " 'smithsonian-open-access/metadata/edan/sil']"
      ]
     },
     "execution_count": 3,
     "metadata": {},
     "output_type": "execute_result"
    }
   ],
   "source": [
    "metadata = fs.ls('smithsonian-open-access/metadata/edan')\n",
    "metadata"
   ]
  },
  {
   "cell_type": "code",
   "execution_count": 4,
   "metadata": {
    "ExecuteTime": {
     "end_time": "2020-06-04T19:34:30.049054Z",
     "start_time": "2020-06-04T19:34:29.061201Z"
    }
   },
   "outputs": [
    {
     "data": {
      "text/html": [
       "<table style=\"border: 2px solid white;\">\n",
       "<tr>\n",
       "<td style=\"vertical-align: top; border: 0px solid white\">\n",
       "<h3 style=\"text-align: left;\">Client</h3>\n",
       "<ul style=\"text-align: left; list-style: none; margin: 0; padding: 0;\">\n",
       "  <li><b>Scheduler: </b>tcp://127.0.0.1:58800</li>\n",
       "  <li><b>Dashboard: </b><a href='http://127.0.0.1:8787/status' target='_blank'>http://127.0.0.1:8787/status</a></li>\n",
       "</ul>\n",
       "</td>\n",
       "<td style=\"vertical-align: top; border: 0px solid white\">\n",
       "<h3 style=\"text-align: left;\">Cluster</h3>\n",
       "<ul style=\"text-align: left; list-style:none; margin: 0; padding: 0;\">\n",
       "  <li><b>Workers: </b>1</li>\n",
       "  <li><b>Cores: </b>4</li>\n",
       "  <li><b>Memory: </b>17.18 GB</li>\n",
       "</ul>\n",
       "</td>\n",
       "</tr>\n",
       "</table>"
      ],
      "text/plain": [
       "<Client: 'tcp://127.0.0.1:58800' processes=1 threads=4, memory=17.18 GB>"
      ]
     },
     "execution_count": 4,
     "metadata": {},
     "output_type": "execute_result"
    }
   ],
   "source": [
    "client = Client(threads_per_worker=4, n_workers=1)\n",
    "client"
   ]
  },
  {
   "cell_type": "code",
   "execution_count": 5,
   "metadata": {
    "ExecuteTime": {
     "end_time": "2020-06-04T19:24:04.798940Z",
     "start_time": "2020-06-04T19:24:03.496029Z"
    }
   },
   "outputs": [],
   "source": [
    "b = db.read_text('s3://smithsonian-open-access/metadata/edan/saam/*.txt',\n",
    "                storage_options={'anon': True}).map(json.loads)"
   ]
  },
  {
   "cell_type": "code",
   "execution_count": 6,
   "metadata": {
    "ExecuteTime": {
     "end_time": "2020-06-04T19:26:49.143139Z",
     "start_time": "2020-06-04T19:26:45.259323Z"
    }
   },
   "outputs": [
    {
     "name": "stdout",
     "output_type": "stream",
     "text": [
      "{\n",
      "     \"id\": \"edanmdm-saam_1971.439.94\",\n",
      "     \"version\": \"\",\n",
      "     \"unitCode\": \"SAAM\",\n",
      "     \"linkedId\": \"0\",\n",
      "     \"type\": \"edanmdm\",\n",
      "     \"content\": {\n",
      "          \"descriptiveNonRepeating\": {\n",
      "               \"record_ID\": \"saam_1971.439.94\",\n",
      "               \"online_media\": {\n",
      "                    \"mediaCount\": 1,\n",
      "                    \"media\": [\n",
      "                         {\n",
      "                              \"thumbnail\": \"http://ids.si.edu/ids/deliveryService?id=SAAM-1971.439.94_1\",\n",
      "                              \"idsId\": \"SAAM-1971.439.94_1\",\n",
      "                              \"usage\": {\n",
      "                                   \"access\": \"CC0\"\n",
      "                              },\n",
      "                              \"guid\": \"http://n2t.net/ark:/65665/bj992c82692-2156-4c18-afee-bd08d92b590a\",\n",
      "                              \"type\": \"Images\",\n",
      "                              \"content\": \"http://ids.si.edu/ids/deliveryService?id=SAAM-1971.439.94_1\",\n",
      "                              \"resources\": [\n",
      "                                   {\n",
      "                                        \"label\": \"High-resolution TIFF\",\n",
      "                                        \"url\": \"https://ids.si.edu/ids/download?id=SAAM-1971.439.94_1.tif\"\n",
      "                                   },\n",
      "                                   {\n",
      "                                        \"label\": \"High-resolution JPEG (2251x2251)\",\n",
      "                                        \"url\": \"https://ids.si.edu/ids/download?id=SAAM-1971.439.94_1.jpg\"\n",
      "                                   },\n",
      "                                   {\n",
      "                                        \"label\": \"Screen Image\",\n",
      "                                        \"url\": \"https://ids.si.edu/ids/download?id=SAAM-1971.439.94_1_screen\"\n",
      "                                   },\n",
      "                                   {\n",
      "                                        \"label\": \"Thumbnail Image\",\n",
      "                                        \"url\": \"https://ids.si.edu/ids/download?id=SAAM-1971.439.94_1_thumb\"\n",
      "                                   }\n",
      "                              ]\n",
      "                         }\n",
      "                    ]\n",
      "               },\n",
      "               \"unit_code\": \"SAAM\",\n",
      "               \"title_sort\": \"CALAVERA FOR THE POLICEMAN\",\n",
      "               \"guid\": \"http://n2t.net/ark:/65665/vk7323e8ffa-fe0d-4000-abf9-2f9c1ad6c49b\",\n",
      "               \"record_link\": \"http://americanart.si.edu/collections/search/artwork/?id=19888\",\n",
      "               \"title\": {\n",
      "                    \"label\": \"Title\",\n",
      "                    \"content\": \"Calavera for the Policeman\"\n",
      "               },\n",
      "               \"metadata_usage\": {\n",
      "                    \"access\": \"CC0\"\n",
      "               },\n",
      "               \"data_source\": \"Smithsonian American Art Museum\"\n",
      "          },\n",
      "          \"indexedStructured\": {\n",
      "               \"object_type\": [\n",
      "                    \"Graphic arts\"\n",
      "               ],\n",
      "               \"name\": [\n",
      "                    \"Posada, Jos\\u00e9 Guadalupe\"\n",
      "               ],\n",
      "               \"topic\": [\n",
      "                    \"Occupations\",\n",
      "                    \"Service\",\n",
      "                    \"Policeman\",\n",
      "                    \"Skeleton\"\n",
      "               ],\n",
      "               \"usage_flag\": [\n",
      "                    \"permcoll\"\n",
      "               ],\n",
      "               \"online_media_type\": [\n",
      "                    \"Images\"\n",
      "               ]\n",
      "          },\n",
      "          \"freetext\": {\n",
      "               \"setName\": [\n",
      "                    {\n",
      "                         \"label\": \"See more items in\",\n",
      "                         \"content\": \"Smithsonian American Art Museum Collection\"\n",
      "                    },\n",
      "                    {\n",
      "                         \"label\": \"Department\",\n",
      "                         \"content\": \"Graphic Arts\"\n",
      "                    }\n",
      "               ],\n",
      "               \"identifier\": [\n",
      "                    {\n",
      "                         \"label\": \"Object number\",\n",
      "                         \"content\": \"1971.439.94\"\n",
      "                    }\n",
      "               ],\n",
      "               \"creditLine\": [\n",
      "                    {\n",
      "                         \"label\": \"Credit Line\",\n",
      "                         \"content\": \"Smithsonian American Art Museum, Gift of Jack Lord\"\n",
      "                    }\n",
      "               ],\n",
      "               \"name\": [\n",
      "                    {\n",
      "                         \"label\": \"Artist\",\n",
      "                         \"content\": \"Jos\\u00e9 Guadalupe Posada, Mexican, Aguascalientes, Mexico 1852-died Mexico City, Mexico 1913\"\n",
      "                    }\n",
      "               ],\n",
      "               \"topic\": [\n",
      "                    {\n",
      "                         \"label\": \"Topic\",\n",
      "                         \"content\": \"Occupation\\\\service\\\\policeman\"\n",
      "                    },\n",
      "                    {\n",
      "                         \"label\": \"Topic\",\n",
      "                         \"content\": \"Skeleton\"\n",
      "                    }\n",
      "               ],\n",
      "               \"physicalDescription\": [\n",
      "                    {\n",
      "                         \"label\": \"Medium\",\n",
      "                         \"content\": \"woodcut\"\n",
      "                    }\n",
      "               ],\n",
      "               \"dataSource\": [\n",
      "                    {\n",
      "                         \"label\": \"Data Source\",\n",
      "                         \"content\": \"Smithsonian American Art Museum\"\n",
      "                    }\n",
      "               ],\n",
      "               \"objectRights\": [\n",
      "                    {\n",
      "                         \"label\": \"Restrictions & Rights\",\n",
      "                         \"content\": \"CC0\"\n",
      "                    }\n",
      "               ],\n",
      "               \"objectType\": [\n",
      "                    {\n",
      "                         \"label\": \"Type\",\n",
      "                         \"content\": \"Graphic Arts-Print\"\n",
      "                    }\n",
      "               ]\n",
      "          }\n",
      "     },\n",
      "     \"url\": \"edanmdm:saam_1971.439.94\",\n",
      "     \"hash\": \"002336a21b739d08cbe69621658ae6f9af99a305\",\n",
      "     \"docSignature\": \"cb88c162ef6cfd48131cb653ac71cfeb6a7fffb8_8ddc66a424ab35ff746bb3c87d9f1f21\",\n",
      "     \"timestamp\": 1583487418,\n",
      "     \"lastTimeUpdated\": 1583487399,\n",
      "     \"title\": \"Calavera for the Policeman\"\n",
      "}\n"
     ]
    }
   ],
   "source": [
    "saam_example = b.take(1)[0]\n",
    "print(json.dumps(saam_example, indent=5))"
   ]
  },
  {
   "cell_type": "code",
   "execution_count": 7,
   "metadata": {
    "ExecuteTime": {
     "end_time": "2020-06-04T19:25:48.997074Z",
     "start_time": "2020-06-04T19:25:48.987900Z"
    }
   },
   "outputs": [],
   "source": [
    "def flatten(record):\n",
    "    flattened_record = dict()\n",
    "    flattened_record['id'] = record['id']\n",
    "    flattened_record['unitCode'] = record['unitCode']\n",
    "    flattened_record['title'] = record['title']\n",
    "    media_count = record['content'].get('descriptiveNonRepeating', {}).get('online_media',{}).get('mediaCount',np.nan)\n",
    "    flattened_record['media_count'] = float(media_count)\n",
    "    media = record['content'].get('descriptiveNonRepeating', {}).get('online_media',{}).get('media',[])   \n",
    "    if len(media):\n",
    "        flattened_record['media_id'] = media[0]['idsId']\n",
    "        \n",
    "    topics = record['content'].get('indexedStructured',{}).get('topic',[])\n",
    "    if len(topics):\n",
    "        flattened_record['topics'] = '|'.join(topics)\n",
    "    \n",
    "    if 'freetext' in record['content']:\n",
    "        if 'objectType' in record['content']['freetext']:\n",
    "            for obtype in record['content']['freetext']['objectType']:\n",
    "                if obtype['label'] == 'Type':\n",
    "                    flattened_record['object_type'] = obtype['content']\n",
    "        if 'physicalDescription' in record['content']['freetext']:\n",
    "            for phys in record['content']['freetext']['physicalDescription']:\n",
    "                if phys['label'] == 'Medium':\n",
    "                    flattened_record['medium'] = phys['content']\n",
    "    return flattened_record"
   ]
  },
  {
   "cell_type": "code",
   "execution_count": 8,
   "metadata": {
    "ExecuteTime": {
     "end_time": "2020-06-04T19:26:54.059601Z",
     "start_time": "2020-06-04T19:26:54.054704Z"
    }
   },
   "outputs": [
    {
     "data": {
      "text/plain": [
       "{'id': 'edanmdm-saam_1971.439.94',\n",
       " 'unitCode': 'SAAM',\n",
       " 'title': 'Calavera for the Policeman',\n",
       " 'media_count': 1.0,\n",
       " 'media_id': 'SAAM-1971.439.94_1',\n",
       " 'topics': 'Occupations|Service|Policeman|Skeleton',\n",
       " 'object_type': 'Graphic Arts-Print',\n",
       " 'medium': 'woodcut'}"
      ]
     },
     "execution_count": 8,
     "metadata": {},
     "output_type": "execute_result"
    }
   ],
   "source": [
    "flattened_example = flatten(saam_example)\n",
    "flattened_example"
   ]
  },
  {
   "cell_type": "code",
   "execution_count": 9,
   "metadata": {
    "ExecuteTime": {
     "end_time": "2020-06-04T19:27:42.915349Z",
     "start_time": "2020-06-04T19:27:31.113158Z"
    }
   },
   "outputs": [
    {
     "data": {
      "text/html": [
       "<div>\n",
       "<style scoped>\n",
       "    .dataframe tbody tr th:only-of-type {\n",
       "        vertical-align: middle;\n",
       "    }\n",
       "\n",
       "    .dataframe tbody tr th {\n",
       "        vertical-align: top;\n",
       "    }\n",
       "\n",
       "    .dataframe thead th {\n",
       "        text-align: right;\n",
       "    }\n",
       "</style>\n",
       "<table border=\"1\" class=\"dataframe\">\n",
       "  <thead>\n",
       "    <tr style=\"text-align: right;\">\n",
       "      <th></th>\n",
       "      <th>id</th>\n",
       "      <th>unitCode</th>\n",
       "      <th>title</th>\n",
       "      <th>media_count</th>\n",
       "      <th>media_id</th>\n",
       "      <th>topics</th>\n",
       "      <th>object_type</th>\n",
       "      <th>medium</th>\n",
       "    </tr>\n",
       "  </thead>\n",
       "  <tbody>\n",
       "    <tr>\n",
       "      <th>0</th>\n",
       "      <td>edanmdm-saam_1971.439.94</td>\n",
       "      <td>SAAM</td>\n",
       "      <td>Calavera for the Policeman</td>\n",
       "      <td>1.0</td>\n",
       "      <td>SAAM-1971.439.94_1</td>\n",
       "      <td>Occupations|Service|Policeman|Skeleton</td>\n",
       "      <td>Graphic Arts-Print</td>\n",
       "      <td>woodcut</td>\n",
       "    </tr>\n",
       "    <tr>\n",
       "      <th>1</th>\n",
       "      <td>edanmdm-saam_1915.5.1</td>\n",
       "      <td>SAAM</td>\n",
       "      <td>The Falling Gladiator</td>\n",
       "      <td>1.0</td>\n",
       "      <td>SAAM-1915.5.1_1</td>\n",
       "      <td>Sport|Occupations|Nudity|State of being|Figure...</td>\n",
       "      <td>Sculpture</td>\n",
       "      <td>plaster</td>\n",
       "    </tr>\n",
       "    <tr>\n",
       "      <th>2</th>\n",
       "      <td>edanmdm-saam_1983.90.173</td>\n",
       "      <td>SAAM</td>\n",
       "      <td>The Sortie Made by the Garrison of Gibraltar i...</td>\n",
       "      <td>NaN</td>\n",
       "      <td>NaN</td>\n",
       "      <td>History</td>\n",
       "      <td>Graphic Arts-Print</td>\n",
       "      <td>engraving</td>\n",
       "    </tr>\n",
       "    <tr>\n",
       "      <th>3</th>\n",
       "      <td>edanmdm-saam_1985.66.295_540</td>\n",
       "      <td>SAAM</td>\n",
       "      <td>Ta-do-udo-sa (Prairie Chicken)</td>\n",
       "      <td>1.0</td>\n",
       "      <td>SAAM-1985.66.295540_1</td>\n",
       "      <td>Ethnicity|Men|Portraits</td>\n",
       "      <td>Painting</td>\n",
       "      <td>oil on canvas</td>\n",
       "    </tr>\n",
       "    <tr>\n",
       "      <th>4</th>\n",
       "      <td>edanmdm-saam_1930.12.47</td>\n",
       "      <td>SAAM</td>\n",
       "      <td>Figure Study for Decorative Panel</td>\n",
       "      <td>1.0</td>\n",
       "      <td>SAAM-1930.12.47_1</td>\n",
       "      <td>Landscapes|Figure female|Nudity</td>\n",
       "      <td>Drawing</td>\n",
       "      <td>pencil and watercolor on paper mounted on pape...</td>\n",
       "    </tr>\n",
       "  </tbody>\n",
       "</table>\n",
       "</div>"
      ],
      "text/plain": [
       "                             id unitCode  \\\n",
       "0      edanmdm-saam_1971.439.94     SAAM   \n",
       "1         edanmdm-saam_1915.5.1     SAAM   \n",
       "2      edanmdm-saam_1983.90.173     SAAM   \n",
       "3  edanmdm-saam_1985.66.295_540     SAAM   \n",
       "4       edanmdm-saam_1930.12.47     SAAM   \n",
       "\n",
       "                                               title  media_count  \\\n",
       "0                         Calavera for the Policeman          1.0   \n",
       "1                              The Falling Gladiator          1.0   \n",
       "2  The Sortie Made by the Garrison of Gibraltar i...          NaN   \n",
       "3                     Ta-do-udo-sa (Prairie Chicken)          1.0   \n",
       "4                  Figure Study for Decorative Panel          1.0   \n",
       "\n",
       "                media_id                                             topics  \\\n",
       "0     SAAM-1971.439.94_1             Occupations|Service|Policeman|Skeleton   \n",
       "1        SAAM-1915.5.1_1  Sport|Occupations|Nudity|State of being|Figure...   \n",
       "2                    NaN                                            History   \n",
       "3  SAAM-1985.66.295540_1                            Ethnicity|Men|Portraits   \n",
       "4      SAAM-1930.12.47_1                    Landscapes|Figure female|Nudity   \n",
       "\n",
       "          object_type                                             medium  \n",
       "0  Graphic Arts-Print                                            woodcut  \n",
       "1           Sculpture                                            plaster  \n",
       "2  Graphic Arts-Print                                          engraving  \n",
       "3            Painting                                      oil on canvas  \n",
       "4             Drawing  pencil and watercolor on paper mounted on pape...  "
      ]
     },
     "execution_count": 9,
     "metadata": {},
     "output_type": "execute_result"
    }
   ],
   "source": [
    "saam_df = b.map(flatten).to_dataframe().compute()\n",
    "saam_df.head()"
   ]
  },
  {
   "cell_type": "code",
   "execution_count": 10,
   "metadata": {
    "ExecuteTime": {
     "end_time": "2020-06-04T19:28:02.669906Z",
     "start_time": "2020-06-04T19:28:02.650473Z"
    }
   },
   "outputs": [
    {
     "name": "stdout",
     "output_type": "stream",
     "text": [
      "<class 'pandas.core.frame.DataFrame'>\n",
      "Int64Index: 12542 entries, 0 to 59\n",
      "Data columns (total 8 columns):\n",
      " #   Column       Non-Null Count  Dtype  \n",
      "---  ------       --------------  -----  \n",
      " 0   id           12542 non-null  object \n",
      " 1   unitCode     12542 non-null  object \n",
      " 2   title        12542 non-null  object \n",
      " 3   media_count  11561 non-null  float64\n",
      " 4   media_id     11561 non-null  object \n",
      " 5   topics       11230 non-null  object \n",
      " 6   object_type  12542 non-null  object \n",
      " 7   medium       12100 non-null  object \n",
      "dtypes: float64(1), object(7)\n",
      "memory usage: 881.9+ KB\n"
     ]
    }
   ],
   "source": [
    "saam_df.info()"
   ]
  },
  {
   "cell_type": "code",
   "execution_count": 11,
   "metadata": {
    "ExecuteTime": {
     "end_time": "2020-06-04T19:28:41.869118Z",
     "start_time": "2020-06-04T19:28:41.852499Z"
    }
   },
   "outputs": [
    {
     "data": {
      "text/plain": [
       "object_type             medium                          \n",
       "Painting                oil on canvas                       1662\n",
       "                        watercolor on paper                  853\n",
       "Drawing                 pencil on paper                      642\n",
       "Graphic Arts-Print      wood engraving on paper              441\n",
       "Drawing                 drawing                              354\n",
       "Painting-Miniature      watercolor on ivory                  350\n",
       "Photography-Photoprint  albumen silver print                 268\n",
       "Graphic Arts-Print      lithograph                           223\n",
       "Decorative Arts-Glass   glass                                223\n",
       "Graphic Arts-Print      etching on paper                     214\n",
       "Sculpture               plaster                              209\n",
       "Drawing                 pencil                               201\n",
       "Graphic Arts-Print      etching                              194\n",
       "Painting                watercolor                           149\n",
       "Graphic Arts-Print      engraving                            149\n",
       "Painting                oil on wood                          137\n",
       "Graphic Arts-Print      hand-colored lithograph on paper     113\n",
       "                        lithograph on paper                  112\n",
       "                        wood engraving                       111\n",
       "Painting                watercolor and pencil on paper       110\n",
       "dtype: int64"
      ]
     },
     "execution_count": 11,
     "metadata": {},
     "output_type": "execute_result"
    }
   ],
   "source": [
    "saam_df.groupby(['object_type','medium']).size().sort_values(ascending=False).head(20)"
   ]
  },
  {
   "cell_type": "code",
   "execution_count": 12,
   "metadata": {
    "ExecuteTime": {
     "end_time": "2020-06-04T19:29:50.704144Z",
     "start_time": "2020-06-04T19:29:50.677781Z"
    }
   },
   "outputs": [
    {
     "name": "stdout",
     "output_type": "stream",
     "text": [
      "56927\n"
     ]
    },
    {
     "data": {
      "text/plain": [
       "[('Landscapes', 3368),\n",
       " ('Architecture', 2482),\n",
       " ('Portraits', 2459),\n",
       " ('Figure group', 2202),\n",
       " ('Men', 1988),\n",
       " ('Occupations', 1534),\n",
       " ('Ethnicity', 1375),\n",
       " ('Animals', 1354),\n",
       " ('Figure female', 1128),\n",
       " ('Women', 1062),\n",
       " ('Clothing and dress', 1003),\n",
       " ('Figure male', 814),\n",
       " ('Botanical study', 776),\n",
       " ('Religion', 751),\n",
       " ('Nudity', 707),\n",
       " ('Domestic', 704),\n",
       " ('Cityscapes', 625),\n",
       " ('Recreation', 558),\n",
       " ('Dress accessories', 554),\n",
       " ('Children', 517)]"
      ]
     },
     "execution_count": 12,
     "metadata": {},
     "output_type": "execute_result"
    }
   ],
   "source": [
    "topic_list = []\n",
    "topics_entries = saam_df['topics'].dropna().tolist()\n",
    "for topics_entry in topics_entries:\n",
    "    topics = topics_entry.split('|')\n",
    "    if len(topics):\n",
    "        topic_list += topics\n",
    "print(len(topic_list))\n",
    "topic_counts = Counter(topic_list)\n",
    "topic_counts.most_common(20)"
   ]
  },
  {
   "cell_type": "code",
   "execution_count": 13,
   "metadata": {
    "ExecuteTime": {
     "end_time": "2020-06-04T19:31:01.553907Z",
     "start_time": "2020-06-04T19:31:01.512060Z"
    }
   },
   "outputs": [
    {
     "data": {
      "text/html": [
       "<div>\n",
       "<style scoped>\n",
       "    .dataframe tbody tr th:only-of-type {\n",
       "        vertical-align: middle;\n",
       "    }\n",
       "\n",
       "    .dataframe tbody tr th {\n",
       "        vertical-align: top;\n",
       "    }\n",
       "\n",
       "    .dataframe thead th {\n",
       "        text-align: right;\n",
       "    }\n",
       "</style>\n",
       "<table border=\"1\" class=\"dataframe\">\n",
       "  <thead>\n",
       "    <tr style=\"text-align: right;\">\n",
       "      <th></th>\n",
       "      <th>id</th>\n",
       "      <th>unitCode</th>\n",
       "      <th>title</th>\n",
       "      <th>media_count</th>\n",
       "      <th>media_id</th>\n",
       "      <th>topics</th>\n",
       "      <th>object_type</th>\n",
       "      <th>medium</th>\n",
       "    </tr>\n",
       "  </thead>\n",
       "  <tbody>\n",
       "    <tr>\n",
       "      <th>6</th>\n",
       "      <td>edanmdm-saam_1929.6.144</td>\n",
       "      <td>SAAM</td>\n",
       "      <td>The Brook, Greenwich, Connecticut</td>\n",
       "      <td>1.0</td>\n",
       "      <td>SAAM-1929.6.144_1</td>\n",
       "      <td>Landscapes|Rivers|Greenwich</td>\n",
       "      <td>Painting</td>\n",
       "      <td>oil on canvas</td>\n",
       "    </tr>\n",
       "    <tr>\n",
       "      <th>20</th>\n",
       "      <td>edanmdm-saam_1991.56.271</td>\n",
       "      <td>SAAM</td>\n",
       "      <td>Nanfio</td>\n",
       "      <td>1.0</td>\n",
       "      <td>SAAM-1991.56.271_1</td>\n",
       "      <td>Mountains|Landscapes</td>\n",
       "      <td>Drawing</td>\n",
       "      <td>pencil on paper</td>\n",
       "    </tr>\n",
       "    <tr>\n",
       "      <th>21</th>\n",
       "      <td>edanmdm-saam_1998.160.3</td>\n",
       "      <td>SAAM</td>\n",
       "      <td>Untitled from \"Atlantic and Great Western Rail...</td>\n",
       "      <td>NaN</td>\n",
       "      <td>NaN</td>\n",
       "      <td>Bridges|Atlantic and Great Western Railroad|Ra...</td>\n",
       "      <td>Photography-Photoprint</td>\n",
       "      <td>albumen silver print</td>\n",
       "    </tr>\n",
       "    <tr>\n",
       "      <th>25</th>\n",
       "      <td>edanmdm-saam_1983.83.171</td>\n",
       "      <td>SAAM</td>\n",
       "      <td>Rhine at the Lurlei</td>\n",
       "      <td>1.0</td>\n",
       "      <td>SAAM-1983.83.171_1</td>\n",
       "      <td>Lurlei|Landscapes|Art|Rhine River|Rivers</td>\n",
       "      <td>Drawing</td>\n",
       "      <td>pencil on paper</td>\n",
       "    </tr>\n",
       "    <tr>\n",
       "      <th>26</th>\n",
       "      <td>edanmdm-saam_1983.83.55</td>\n",
       "      <td>SAAM</td>\n",
       "      <td>Untitled (transfer drawing for Storm near Timb...</td>\n",
       "      <td>1.0</td>\n",
       "      <td>SAAM-1983.83.55_1</td>\n",
       "      <td>Trees|Western|Weather|Landscapes|Storms|Rocks</td>\n",
       "      <td>Drawing</td>\n",
       "      <td>pencil on paper</td>\n",
       "    </tr>\n",
       "  </tbody>\n",
       "</table>\n",
       "</div>"
      ],
      "text/plain": [
       "                          id unitCode  \\\n",
       "6    edanmdm-saam_1929.6.144     SAAM   \n",
       "20  edanmdm-saam_1991.56.271     SAAM   \n",
       "21   edanmdm-saam_1998.160.3     SAAM   \n",
       "25  edanmdm-saam_1983.83.171     SAAM   \n",
       "26   edanmdm-saam_1983.83.55     SAAM   \n",
       "\n",
       "                                                title  media_count  \\\n",
       "6                   The Brook, Greenwich, Connecticut          1.0   \n",
       "20                                             Nanfio          1.0   \n",
       "21  Untitled from \"Atlantic and Great Western Rail...          NaN   \n",
       "25                                Rhine at the Lurlei          1.0   \n",
       "26  Untitled (transfer drawing for Storm near Timb...          1.0   \n",
       "\n",
       "              media_id                                             topics  \\\n",
       "6    SAAM-1929.6.144_1                        Landscapes|Rivers|Greenwich   \n",
       "20  SAAM-1991.56.271_1                               Mountains|Landscapes   \n",
       "21                 NaN  Bridges|Atlantic and Great Western Railroad|Ra...   \n",
       "25  SAAM-1983.83.171_1           Lurlei|Landscapes|Art|Rhine River|Rivers   \n",
       "26   SAAM-1983.83.55_1      Trees|Western|Weather|Landscapes|Storms|Rocks   \n",
       "\n",
       "               object_type                medium  \n",
       "6                 Painting         oil on canvas  \n",
       "20                 Drawing       pencil on paper  \n",
       "21  Photography-Photoprint  albumen silver print  \n",
       "25                 Drawing       pencil on paper  \n",
       "26                 Drawing       pencil on paper  "
      ]
     },
     "execution_count": 13,
     "metadata": {},
     "output_type": "execute_result"
    }
   ],
   "source": [
    "include_topics = ['Landscapes','Architecture','Animals']\n",
    "exclude_topics = ['Portraits','Nudity','Ethnicity','Men','Women','Children',\n",
    "                'Figure male','Figure female','Figure group',\n",
    "                 'Botanical study']\n",
    "include_regex = '|'.join(include_topics)\n",
    "exclude_regex = '|'.join(exclude_topics)\n",
    "filtered_df = saam_df[(saam_df['topics'].str.contains(include_regex, regex=True).fillna(False)) & \\\n",
    "                 (~saam_df['topics'].str.contains(exclude_regex, regex=True).fillna(False))]\n",
    "filtered_df.head()"
   ]
  },
  {
   "cell_type": "code",
   "execution_count": 14,
   "metadata": {
    "ExecuteTime": {
     "end_time": "2020-06-04T19:31:24.128777Z",
     "start_time": "2020-06-04T19:31:24.113584Z"
    }
   },
   "outputs": [
    {
     "name": "stdout",
     "output_type": "stream",
     "text": [
      "14469\n"
     ]
    },
    {
     "data": {
      "text/plain": [
       "[('Landscapes', 1979),\n",
       " ('Architecture', 1177),\n",
       " ('Animals', 634),\n",
       " ('Mountains', 379),\n",
       " ('Rivers', 315),\n",
       " ('Trees', 291),\n",
       " ('Cityscapes', 276),\n",
       " ('Boats and boating', 258),\n",
       " ('Domestic', 253),\n",
       " ('Waterscapes', 231),\n",
       " ('Religion', 225),\n",
       " ('Detail', 189),\n",
       " ('Dwellings', 166),\n",
       " ('Birds', 164),\n",
       " ('Coasts', 141),\n",
       " ('Time', 125),\n",
       " ('Water', 122),\n",
       " ('Weather', 119),\n",
       " ('Seasons', 119),\n",
       " ('Roads', 112)]"
      ]
     },
     "execution_count": 14,
     "metadata": {},
     "output_type": "execute_result"
    }
   ],
   "source": [
    "topic_list = []\n",
    "topics_entries = filtered_df['topics'].dropna().tolist()\n",
    "for topics_entry in topics_entries:\n",
    "    topics = topics_entry.split('|')\n",
    "    if len(topics):\n",
    "        topic_list += topics\n",
    "print(len(topic_list))\n",
    "topic_counts = Counter(topic_list)\n",
    "topic_counts.most_common(20)"
   ]
  },
  {
   "cell_type": "code",
   "execution_count": 15,
   "metadata": {
    "ExecuteTime": {
     "end_time": "2020-06-04T19:32:14.954371Z",
     "start_time": "2020-06-04T19:32:14.946119Z"
    }
   },
   "outputs": [
    {
     "data": {
      "text/plain": [
       "808"
      ]
     },
     "execution_count": 15,
     "metadata": {},
     "output_type": "execute_result"
    }
   ],
   "source": [
    "painting_ids = filtered_df[filtered_df['object_type'] == 'Painting']['media_id'].dropna().tolist()\n",
    "len(painting_ids)"
   ]
  },
  {
   "cell_type": "code",
   "execution_count": 16,
   "metadata": {
    "ExecuteTime": {
     "end_time": "2020-06-04T19:32:29.323861Z",
     "start_time": "2020-06-04T19:32:29.319813Z"
    }
   },
   "outputs": [
    {
     "data": {
      "text/plain": [
       "['SAAM-1929.6.144_1',\n",
       " 'SAAM-1967.136.6_1',\n",
       " 'SAAM-1958.5.3_1',\n",
       " 'SAAM-1984.50_2',\n",
       " 'SAAM-1973.150_1',\n",
       " 'SAAM-1985.66.385_1',\n",
       " 'SAAM-1909.7.51_1',\n",
       " 'SAAM-1983.95.91_1',\n",
       " 'SAAM-1972.2.12_1',\n",
       " 'SAAM-1978.68_1']"
      ]
     },
     "execution_count": 16,
     "metadata": {},
     "output_type": "execute_result"
    }
   ],
   "source": [
    "painting_ids[:10]"
   ]
  },
  {
   "cell_type": "code",
   "execution_count": 17,
   "metadata": {
    "ExecuteTime": {
     "end_time": "2020-06-04T19:33:14.934435Z",
     "start_time": "2020-06-04T19:33:14.804805Z"
    }
   },
   "outputs": [
    {
     "name": "stdout",
     "output_type": "stream",
     "text": [
      "mkdir: saam_thumbnails: File exists\n"
     ]
    }
   ],
   "source": [
    "!mkdir saam_thumbnails"
   ]
  },
  {
   "cell_type": "code",
   "execution_count": 18,
   "metadata": {
    "ExecuteTime": {
     "end_time": "2020-06-04T19:33:18.946445Z",
     "start_time": "2020-06-04T19:33:18.941347Z"
    }
   },
   "outputs": [],
   "source": [
    "def download_thumbnail(edan_id):\n",
    "    thumb_size = (500, 500)\n",
    "    s3_url = f'smithsonian-open-access/media/saam/{edan_id}.jpg'\n",
    "    file_dest = f'saam_thumbnails/{edan_id}.jpg'\n",
    "    with fs.open(s3_url,'rb') as s3_image:\n",
    "        pil_image = Image.open(s3_image)\n",
    "        pil_image.thumbnail(thumb_size)\n",
    "        pil_image.save(file_dest)\n",
    "    return"
   ]
  },
  {
   "cell_type": "code",
   "execution_count": 19,
   "metadata": {
    "ExecuteTime": {
     "end_time": "2020-06-04T19:38:56.154025Z",
     "start_time": "2020-06-04T19:34:47.855862Z"
    }
   },
   "outputs": [
    {
     "name": "stdout",
     "output_type": "stream",
     "text": [
      "260.69630122184753\n"
     ]
    }
   ],
   "source": [
    "start = time.time()\n",
    "futures = client.map(download_thumbnail, painting_ids)\n",
    "results = client.gather(futures)\n",
    "end = time.time()\n",
    "print(end - start)"
   ]
  },
  {
   "cell_type": "code",
   "execution_count": null,
   "metadata": {},
   "outputs": [],
   "source": []
  }
 ],
 "metadata": {
  "kernelspec": {
   "display_name": "Python 3",
   "language": "python",
   "name": "python3"
  },
  "language_info": {
   "codemirror_mode": {
    "name": "ipython",
    "version": 3
   },
   "file_extension": ".py",
   "mimetype": "text/x-python",
   "name": "python",
   "nbconvert_exporter": "python",
   "pygments_lexer": "ipython3",
   "version": "3.8.3"
  }
 },
 "nbformat": 4,
 "nbformat_minor": 4
}
