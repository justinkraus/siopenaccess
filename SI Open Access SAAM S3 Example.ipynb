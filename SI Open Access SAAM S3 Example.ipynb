{
 "cells": [
  {
   "cell_type": "markdown",
   "metadata": {},
   "source": [
    "# Using SI Open Access Data on AWS to cluster American Art paintings"
   ]
  },
  {
   "cell_type": "markdown",
   "metadata": {},
   "source": [
    "## Introduction"
   ]
  },
  {
   "cell_type": "markdown",
   "metadata": {},
   "source": [
    "In this notebook, we will show how to use the Smithsonian Open Access dataset on AWS, by demonstrating an end-to-end example of filtering metadata, downloading images, and then processing them to produce a cluster representation."
   ]
  },
  {
   "cell_type": "markdown",
   "metadata": {},
   "source": [
    "## Using Dask to parse and filter metadata"
   ]
  },
  {
   "cell_type": "markdown",
   "metadata": {},
   "source": [
    "In this section, we will use Dask and s3fs to process metadata files stored on AWS."
   ]
  },
  {
   "cell_type": "code",
   "execution_count": 1,
   "metadata": {
    "ExecuteTime": {
     "end_time": "2020-06-08T19:22:23.719786Z",
     "start_time": "2020-06-08T19:22:22.391435Z"
    }
   },
   "outputs": [],
   "source": [
    "from dask.distributed import Client\n",
    "import dask.bag as db\n",
    "import json\n",
    "from collections import Counter\n",
    "import time\n",
    "import numpy as np\n",
    "import pandas as pd\n",
    "import s3fs\n",
    "from PIL import Image\n",
    "import humanize\n"
   ]
  },
  {
   "cell_type": "markdown",
   "metadata": {},
   "source": [
    "Using s3fs, we can list the top-level \"directories\" in the \"smithsonian-open-access\" S3 bucket. We can see that the bucket is split between metadata files and media files."
   ]
  },
  {
   "cell_type": "code",
   "execution_count": 2,
   "metadata": {
    "ExecuteTime": {
     "end_time": "2020-06-08T19:22:24.267698Z",
     "start_time": "2020-06-08T19:22:23.721511Z"
    }
   },
   "outputs": [
    {
     "data": {
      "text/plain": [
       "['smithsonian-open-access/media', 'smithsonian-open-access/metadata']"
      ]
     },
     "execution_count": 2,
     "metadata": {},
     "output_type": "execute_result"
    }
   ],
   "source": [
    "fs = s3fs.S3FileSystem(anon=True)\n",
    "fs.ls('smithsonian-open-access')"
   ]
  },
  {
   "cell_type": "markdown",
   "metadata": {},
   "source": [
    "Taking a closer look inside the media directory, we can see that metadata files are organized by Smithsonian unit code. This is really helpful if you would like to work with files from just one unit, like in this case where we will be focusing on paintings from the Smithsonian American Art Museum (SAAM)."
   ]
  },
  {
   "cell_type": "code",
   "execution_count": 3,
   "metadata": {
    "ExecuteTime": {
     "end_time": "2020-06-08T19:22:24.449120Z",
     "start_time": "2020-06-08T19:22:24.270304Z"
    }
   },
   "outputs": [
    {
     "data": {
      "text/plain": [
       "['smithsonian-open-access/metadata/edan/acah',\n",
       " 'smithsonian-open-access/metadata/edan/acm',\n",
       " 'smithsonian-open-access/metadata/edan/cfchfolklife',\n",
       " 'smithsonian-open-access/metadata/edan/chndm',\n",
       " 'smithsonian-open-access/metadata/edan/fbr',\n",
       " 'smithsonian-open-access/metadata/edan/fs',\n",
       " 'smithsonian-open-access/metadata/edan/fsa',\n",
       " 'smithsonian-open-access/metadata/edan/fsg',\n",
       " 'smithsonian-open-access/metadata/edan/hac',\n",
       " 'smithsonian-open-access/metadata/edan/hmsg',\n",
       " 'smithsonian-open-access/metadata/edan/hsfa',\n",
       " 'smithsonian-open-access/metadata/edan/naa',\n",
       " 'smithsonian-open-access/metadata/edan/nasm',\n",
       " 'smithsonian-open-access/metadata/edan/nmaahc',\n",
       " 'smithsonian-open-access/metadata/edan/nmafa',\n",
       " 'smithsonian-open-access/metadata/edan/nmah',\n",
       " 'smithsonian-open-access/metadata/edan/nmai',\n",
       " 'smithsonian-open-access/metadata/edan/nmnhanthro',\n",
       " 'smithsonian-open-access/metadata/edan/nmnhbirds',\n",
       " 'smithsonian-open-access/metadata/edan/nmnhbotany',\n",
       " 'smithsonian-open-access/metadata/edan/nmnheducation',\n",
       " 'smithsonian-open-access/metadata/edan/nmnhento',\n",
       " 'smithsonian-open-access/metadata/edan/nmnhfishes',\n",
       " 'smithsonian-open-access/metadata/edan/nmnhherps',\n",
       " 'smithsonian-open-access/metadata/edan/nmnhinv',\n",
       " 'smithsonian-open-access/metadata/edan/nmnhmammals',\n",
       " 'smithsonian-open-access/metadata/edan/nmnhminsci',\n",
       " 'smithsonian-open-access/metadata/edan/nmnhpaleo',\n",
       " 'smithsonian-open-access/metadata/edan/npg',\n",
       " 'smithsonian-open-access/metadata/edan/npm',\n",
       " 'smithsonian-open-access/metadata/edan/nzp',\n",
       " 'smithsonian-open-access/metadata/edan/saam',\n",
       " 'smithsonian-open-access/metadata/edan/si',\n",
       " 'smithsonian-open-access/metadata/edan/sia',\n",
       " 'smithsonian-open-access/metadata/edan/sil']"
      ]
     },
     "execution_count": 3,
     "metadata": {},
     "output_type": "execute_result"
    }
   ],
   "source": [
    "metadata = fs.ls('smithsonian-open-access/metadata/edan')\n",
    "metadata"
   ]
  },
  {
   "cell_type": "markdown",
   "metadata": {},
   "source": [
    "Within each unit, metadata is stored in .txt files in JSONL format. Here we see that there are 256 such files in the SAAM metadata directory, each a little over 100 kilobytes in size."
   ]
  },
  {
   "cell_type": "code",
   "execution_count": 4,
   "metadata": {
    "ExecuteTime": {
     "end_time": "2020-06-08T19:22:25.356574Z",
     "start_time": "2020-06-08T19:22:24.450955Z"
    }
   },
   "outputs": [
    {
     "name": "stdout",
     "output_type": "stream",
     "text": [
      "256\n",
      "smithsonian-open-access/metadata/edan/saam/00.txt\n",
      "110.5 kB\n",
      "smithsonian-open-access/metadata/edan/saam/01.txt\n",
      "149.6 kB\n",
      "smithsonian-open-access/metadata/edan/saam/02.txt\n",
      "125.7 kB\n",
      "smithsonian-open-access/metadata/edan/saam/03.txt\n",
      "135.5 kB\n",
      "smithsonian-open-access/metadata/edan/saam/04.txt\n",
      "125.9 kB\n"
     ]
    }
   ],
   "source": [
    "saam_metadata = fs.ls('smithsonian-open-access/metadata/edan/saam')\n",
    "print(len(saam_metadata))\n",
    "for metadata_file in saam_metadata[:5]:\n",
    "    print(metadata_file)\n",
    "    print(humanize.naturalsize(fs.du(metadata_file)))"
   ]
  },
  {
   "cell_type": "markdown",
   "metadata": {},
   "source": [
    "### Dask intro\n",
    "\n",
    "We will be using the Python Dask library to process this collection of metadata files, because it excels at parallelizing workloads across large numbers of text files, and has built-in support for working with AWS S3 objects."
   ]
  },
  {
   "cell_type": "markdown",
   "metadata": {},
   "source": [
    "The first step to using Dask is to set up a \"client\" that will orchestrate processing across multiple workers. In this specific example, we use 1 worker and 4 threads per worker, because Binder only provide single CPU environments. If you are running this example on your own machine, feel free to crank these numbers up for better performance. "
   ]
  },
  {
   "cell_type": "code",
   "execution_count": 5,
   "metadata": {
    "ExecuteTime": {
     "end_time": "2020-06-08T19:22:26.508635Z",
     "start_time": "2020-06-08T19:22:25.358766Z"
    }
   },
   "outputs": [
    {
     "data": {
      "text/html": [
       "<table style=\"border: 2px solid white;\">\n",
       "<tr>\n",
       "<td style=\"vertical-align: top; border: 0px solid white\">\n",
       "<h3 style=\"text-align: left;\">Client</h3>\n",
       "<ul style=\"text-align: left; list-style: none; margin: 0; padding: 0;\">\n",
       "  <li><b>Scheduler: </b>tcp://127.0.0.1:58130</li>\n",
       "  <li><b>Dashboard: </b><a href='http://127.0.0.1:8787/status' target='_blank'>http://127.0.0.1:8787/status</a></li>\n",
       "</ul>\n",
       "</td>\n",
       "<td style=\"vertical-align: top; border: 0px solid white\">\n",
       "<h3 style=\"text-align: left;\">Cluster</h3>\n",
       "<ul style=\"text-align: left; list-style:none; margin: 0; padding: 0;\">\n",
       "  <li><b>Workers: </b>1</li>\n",
       "  <li><b>Cores: </b>4</li>\n",
       "  <li><b>Memory: </b>17.18 GB</li>\n",
       "</ul>\n",
       "</td>\n",
       "</tr>\n",
       "</table>"
      ],
      "text/plain": [
       "<Client: 'tcp://127.0.0.1:58130' processes=1 threads=4, memory=17.18 GB>"
      ]
     },
     "execution_count": 5,
     "metadata": {},
     "output_type": "execute_result"
    }
   ],
   "source": [
    "client = Client(threads_per_worker=4, n_workers=1)\n",
    "client"
   ]
  },
  {
   "cell_type": "markdown",
   "metadata": {},
   "source": [
    "To process nested JSON data, we use the Dask \"bag\" datatype, and tell it we want to process all .txt files in the SAAM metadata directory. This command will run instantaneously, because Dask uses a \"lazy\" execution model. This means that most Dask commands build an execution graph to be run later."
   ]
  },
  {
   "cell_type": "code",
   "execution_count": 6,
   "metadata": {
    "ExecuteTime": {
     "end_time": "2020-06-08T19:22:26.548194Z",
     "start_time": "2020-06-08T19:22:26.510339Z"
    }
   },
   "outputs": [],
   "source": [
    "b = db.read_text('s3://smithsonian-open-access/metadata/edan/saam/*.txt',\n",
    "                storage_options={'anon': True}).map(json.loads)"
   ]
  },
  {
   "cell_type": "markdown",
   "metadata": {},
   "source": [
    "One exception to the \"lazy\" execution model is the take command, which executes the code immediately to process the first few objects. Here we take just the first object, and then print it out.\n",
    "\n",
    "Take a look at how complicated these objects are."
   ]
  },
  {
   "cell_type": "code",
   "execution_count": 7,
   "metadata": {
    "ExecuteTime": {
     "end_time": "2020-06-08T19:22:27.762791Z",
     "start_time": "2020-06-08T19:22:26.550131Z"
    }
   },
   "outputs": [
    {
     "name": "stdout",
     "output_type": "stream",
     "text": [
      "{\n",
      "  \"id\": \"edanmdm-saam_1971.439.94\",\n",
      "  \"version\": \"\",\n",
      "  \"unitCode\": \"SAAM\",\n",
      "  \"linkedId\": \"0\",\n",
      "  \"type\": \"edanmdm\",\n",
      "  \"content\": {\n",
      "    \"descriptiveNonRepeating\": {\n",
      "      \"record_ID\": \"saam_1971.439.94\",\n",
      "      \"online_media\": {\n",
      "        \"mediaCount\": 1,\n",
      "        \"media\": [\n",
      "          {\n",
      "            \"thumbnail\": \"http://ids.si.edu/ids/deliveryService?id=SAAM-1971.439.94_1\",\n",
      "            \"idsId\": \"SAAM-1971.439.94_1\",\n",
      "            \"usage\": {\n",
      "              \"access\": \"CC0\"\n",
      "            },\n",
      "            \"guid\": \"http://n2t.net/ark:/65665/bj992c82692-2156-4c18-afee-bd08d92b590a\",\n",
      "            \"type\": \"Images\",\n",
      "            \"content\": \"http://ids.si.edu/ids/deliveryService?id=SAAM-1971.439.94_1\",\n",
      "            \"resources\": [\n",
      "              {\n",
      "                \"label\": \"High-resolution TIFF\",\n",
      "                \"url\": \"https://ids.si.edu/ids/download?id=SAAM-1971.439.94_1.tif\"\n",
      "              },\n",
      "              {\n",
      "                \"label\": \"High-resolution JPEG (2251x2251)\",\n",
      "                \"url\": \"https://ids.si.edu/ids/download?id=SAAM-1971.439.94_1.jpg\"\n",
      "              },\n",
      "              {\n",
      "                \"label\": \"Screen Image\",\n",
      "                \"url\": \"https://ids.si.edu/ids/download?id=SAAM-1971.439.94_1_screen\"\n",
      "              },\n",
      "              {\n",
      "                \"label\": \"Thumbnail Image\",\n",
      "                \"url\": \"https://ids.si.edu/ids/download?id=SAAM-1971.439.94_1_thumb\"\n",
      "              }\n",
      "            ]\n",
      "          }\n",
      "        ]\n",
      "      },\n",
      "      \"unit_code\": \"SAAM\",\n",
      "      \"title_sort\": \"CALAVERA FOR THE POLICEMAN\",\n",
      "      \"guid\": \"http://n2t.net/ark:/65665/vk7323e8ffa-fe0d-4000-abf9-2f9c1ad6c49b\",\n",
      "      \"record_link\": \"http://americanart.si.edu/collections/search/artwork/?id=19888\",\n",
      "      \"title\": {\n",
      "        \"label\": \"Title\",\n",
      "        \"content\": \"Calavera for the Policeman\"\n",
      "      },\n",
      "      \"metadata_usage\": {\n",
      "        \"access\": \"CC0\"\n",
      "      },\n",
      "      \"data_source\": \"Smithsonian American Art Museum\"\n",
      "    },\n",
      "    \"indexedStructured\": {\n",
      "      \"object_type\": [\n",
      "        \"Graphic arts\"\n",
      "      ],\n",
      "      \"name\": [\n",
      "        \"Posada, Jos\\u00e9 Guadalupe\"\n",
      "      ],\n",
      "      \"topic\": [\n",
      "        \"Occupations\",\n",
      "        \"Service\",\n",
      "        \"Policeman\",\n",
      "        \"Skeleton\"\n",
      "      ],\n",
      "      \"usage_flag\": [\n",
      "        \"permcoll\"\n",
      "      ],\n",
      "      \"online_media_type\": [\n",
      "        \"Images\"\n",
      "      ]\n",
      "    },\n",
      "    \"freetext\": {\n",
      "      \"setName\": [\n",
      "        {\n",
      "          \"label\": \"See more items in\",\n",
      "          \"content\": \"Smithsonian American Art Museum Collection\"\n",
      "        },\n",
      "        {\n",
      "          \"label\": \"Department\",\n",
      "          \"content\": \"Graphic Arts\"\n",
      "        }\n",
      "      ],\n",
      "      \"identifier\": [\n",
      "        {\n",
      "          \"label\": \"Object number\",\n",
      "          \"content\": \"1971.439.94\"\n",
      "        }\n",
      "      ],\n",
      "      \"creditLine\": [\n",
      "        {\n",
      "          \"label\": \"Credit Line\",\n",
      "          \"content\": \"Smithsonian American Art Museum, Gift of Jack Lord\"\n",
      "        }\n",
      "      ],\n",
      "      \"name\": [\n",
      "        {\n",
      "          \"label\": \"Artist\",\n",
      "          \"content\": \"Jos\\u00e9 Guadalupe Posada, Mexican, Aguascalientes, Mexico 1852-died Mexico City, Mexico 1913\"\n",
      "        }\n",
      "      ],\n",
      "      \"topic\": [\n",
      "        {\n",
      "          \"label\": \"Topic\",\n",
      "          \"content\": \"Occupation\\\\service\\\\policeman\"\n",
      "        },\n",
      "        {\n",
      "          \"label\": \"Topic\",\n",
      "          \"content\": \"Skeleton\"\n",
      "        }\n",
      "      ],\n",
      "      \"physicalDescription\": [\n",
      "        {\n",
      "          \"label\": \"Medium\",\n",
      "          \"content\": \"woodcut\"\n",
      "        }\n",
      "      ],\n",
      "      \"dataSource\": [\n",
      "        {\n",
      "          \"label\": \"Data Source\",\n",
      "          \"content\": \"Smithsonian American Art Museum\"\n",
      "        }\n",
      "      ],\n",
      "      \"objectRights\": [\n",
      "        {\n",
      "          \"label\": \"Restrictions & Rights\",\n",
      "          \"content\": \"CC0\"\n",
      "        }\n",
      "      ],\n",
      "      \"objectType\": [\n",
      "        {\n",
      "          \"label\": \"Type\",\n",
      "          \"content\": \"Graphic Arts-Print\"\n",
      "        }\n",
      "      ]\n",
      "    }\n",
      "  },\n",
      "  \"url\": \"edanmdm:saam_1971.439.94\",\n",
      "  \"hash\": \"002336a21b739d08cbe69621658ae6f9af99a305\",\n",
      "  \"docSignature\": \"cb88c162ef6cfd48131cb653ac71cfeb6a7fffb8_8ddc66a424ab35ff746bb3c87d9f1f21\",\n",
      "  \"timestamp\": 1583487418,\n",
      "  \"lastTimeUpdated\": 1583487399,\n",
      "  \"title\": \"Calavera for the Policeman\"\n",
      "}\n"
     ]
    }
   ],
   "source": [
    "saam_example = b.take(1)[0]\n",
    "print(json.dumps(saam_example, indent=2))"
   ]
  },
  {
   "cell_type": "code",
   "execution_count": 8,
   "metadata": {
    "ExecuteTime": {
     "end_time": "2020-06-08T19:22:27.771160Z",
     "start_time": "2020-06-08T19:22:27.766147Z"
    }
   },
   "outputs": [
    {
     "data": {
      "application/json": {
       "content": {
        "descriptiveNonRepeating": {
         "data_source": "Smithsonian American Art Museum",
         "guid": "http://n2t.net/ark:/65665/vk7323e8ffa-fe0d-4000-abf9-2f9c1ad6c49b",
         "metadata_usage": {
          "access": "CC0"
         },
         "online_media": {
          "media": [
           {
            "content": "http://ids.si.edu/ids/deliveryService?id=SAAM-1971.439.94_1",
            "guid": "http://n2t.net/ark:/65665/bj992c82692-2156-4c18-afee-bd08d92b590a",
            "idsId": "SAAM-1971.439.94_1",
            "resources": [
             {
              "label": "High-resolution TIFF",
              "url": "https://ids.si.edu/ids/download?id=SAAM-1971.439.94_1.tif"
             },
             {
              "label": "High-resolution JPEG (2251x2251)",
              "url": "https://ids.si.edu/ids/download?id=SAAM-1971.439.94_1.jpg"
             },
             {
              "label": "Screen Image",
              "url": "https://ids.si.edu/ids/download?id=SAAM-1971.439.94_1_screen"
             },
             {
              "label": "Thumbnail Image",
              "url": "https://ids.si.edu/ids/download?id=SAAM-1971.439.94_1_thumb"
             }
            ],
            "thumbnail": "http://ids.si.edu/ids/deliveryService?id=SAAM-1971.439.94_1",
            "type": "Images",
            "usage": {
             "access": "CC0"
            }
           }
          ],
          "mediaCount": 1
         },
         "record_ID": "saam_1971.439.94",
         "record_link": "http://americanart.si.edu/collections/search/artwork/?id=19888",
         "title": {
          "content": "Calavera for the Policeman",
          "label": "Title"
         },
         "title_sort": "CALAVERA FOR THE POLICEMAN",
         "unit_code": "SAAM"
        },
        "freetext": {
         "creditLine": [
          {
           "content": "Smithsonian American Art Museum, Gift of Jack Lord",
           "label": "Credit Line"
          }
         ],
         "dataSource": [
          {
           "content": "Smithsonian American Art Museum",
           "label": "Data Source"
          }
         ],
         "identifier": [
          {
           "content": "1971.439.94",
           "label": "Object number"
          }
         ],
         "name": [
          {
           "content": "José Guadalupe Posada, Mexican, Aguascalientes, Mexico 1852-died Mexico City, Mexico 1913",
           "label": "Artist"
          }
         ],
         "objectRights": [
          {
           "content": "CC0",
           "label": "Restrictions & Rights"
          }
         ],
         "objectType": [
          {
           "content": "Graphic Arts-Print",
           "label": "Type"
          }
         ],
         "physicalDescription": [
          {
           "content": "woodcut",
           "label": "Medium"
          }
         ],
         "setName": [
          {
           "content": "Smithsonian American Art Museum Collection",
           "label": "See more items in"
          },
          {
           "content": "Graphic Arts",
           "label": "Department"
          }
         ],
         "topic": [
          {
           "content": "Occupation\\service\\policeman",
           "label": "Topic"
          },
          {
           "content": "Skeleton",
           "label": "Topic"
          }
         ]
        },
        "indexedStructured": {
         "name": [
          "Posada, José Guadalupe"
         ],
         "object_type": [
          "Graphic arts"
         ],
         "online_media_type": [
          "Images"
         ],
         "topic": [
          "Occupations",
          "Service",
          "Policeman",
          "Skeleton"
         ],
         "usage_flag": [
          "permcoll"
         ]
        }
       },
       "docSignature": "cb88c162ef6cfd48131cb653ac71cfeb6a7fffb8_8ddc66a424ab35ff746bb3c87d9f1f21",
       "hash": "002336a21b739d08cbe69621658ae6f9af99a305",
       "id": "edanmdm-saam_1971.439.94",
       "lastTimeUpdated": 1583487399,
       "linkedId": "0",
       "timestamp": 1583487418,
       "title": "Calavera for the Policeman",
       "type": "edanmdm",
       "unitCode": "SAAM",
       "url": "edanmdm:saam_1971.439.94",
       "version": ""
      },
      "text/plain": [
       "<IPython.core.display.JSON object>"
      ]
     },
     "metadata": {
      "application/json": {
       "expanded": true,
       "root": "root"
      }
     },
     "output_type": "display_data"
    }
   ],
   "source": [
    "from IPython.display import display, JSON\n",
    "display(JSON(saam_example, expanded=True))"
   ]
  },
  {
   "cell_type": "markdown",
   "metadata": {},
   "source": [
    "Because of how complicated each individual record is, we need to create a Python function to pull out the pieces of data that we want to store and/or filter on later."
   ]
  },
  {
   "cell_type": "code",
   "execution_count": 9,
   "metadata": {
    "ExecuteTime": {
     "end_time": "2020-06-08T19:22:27.783008Z",
     "start_time": "2020-06-08T19:22:27.774675Z"
    }
   },
   "outputs": [],
   "source": [
    "def flatten(record):\n",
    "    \"\"\"Take a single SAAM metadata record, and pulls out specific pieces of data.\n",
    "\n",
    "    Parameters\n",
    "    ----------\n",
    "    record : dict\n",
    "        A single SAAM metadata record in highly-nested dictionary format.\n",
    "\n",
    "    Returns\n",
    "    -------\n",
    "    flattened_record: dict\n",
    "        An un-nested dictionary that only contains the record id, unit code,\n",
    "        object title, media_count, media_id, topic list, object type, and\n",
    "        object medium.\n",
    "    \"\"\"\n",
    "    flattened_record = dict()\n",
    "    flattened_record['id'] = record['id']\n",
    "    flattened_record['unitCode'] = record['unitCode']\n",
    "    flattened_record['title'] = record['title']\n",
    "    media_count = record['content'].get('descriptiveNonRepeating', {}).get('online_media',{}).get('mediaCount',np.nan)\n",
    "    flattened_record['media_count'] = float(media_count)\n",
    "    media = record['content'].get('descriptiveNonRepeating', {}).get('online_media',{}).get('media',[])   \n",
    "    if len(media):\n",
    "        flattened_record['media_id'] = media[0]['idsId']\n",
    "        \n",
    "    topics = record['content'].get('indexedStructured',{}).get('topic',[])\n",
    "    if len(topics):\n",
    "        flattened_record['topics'] = '|'.join(topics)\n",
    "    \n",
    "    if 'freetext' in record['content']:\n",
    "        if 'objectType' in record['content']['freetext']:\n",
    "            for obtype in record['content']['freetext']['objectType']:\n",
    "                if obtype['label'] == 'Type':\n",
    "                    flattened_record['object_type'] = obtype['content']\n",
    "        if 'physicalDescription' in record['content']['freetext']:\n",
    "            for phys in record['content']['freetext']['physicalDescription']:\n",
    "                if phys['label'] == 'Medium':\n",
    "                    flattened_record['medium'] = phys['content']\n",
    "    return flattened_record"
   ]
  },
  {
   "cell_type": "markdown",
   "metadata": {},
   "source": [
    "Here we test out this `flatten` function by passing it the single record we pulled out earlier with the `take` command. You can see how it converted the highly-nested format into a single level dictionary with only a few pieces of information."
   ]
  },
  {
   "cell_type": "code",
   "execution_count": 10,
   "metadata": {
    "ExecuteTime": {
     "end_time": "2020-06-08T19:22:27.788347Z",
     "start_time": "2020-06-08T19:22:27.784634Z"
    }
   },
   "outputs": [
    {
     "data": {
      "text/plain": [
       "{'id': 'edanmdm-saam_1971.439.94',\n",
       " 'unitCode': 'SAAM',\n",
       " 'title': 'Calavera for the Policeman',\n",
       " 'media_count': 1.0,\n",
       " 'media_id': 'SAAM-1971.439.94_1',\n",
       " 'topics': 'Occupations|Service|Policeman|Skeleton',\n",
       " 'object_type': 'Graphic Arts-Print',\n",
       " 'medium': 'woodcut'}"
      ]
     },
     "execution_count": 10,
     "metadata": {},
     "output_type": "execute_result"
    }
   ],
   "source": [
    "flattened_example = flatten(saam_example)\n",
    "flattened_example"
   ]
  },
  {
   "cell_type": "markdown",
   "metadata": {},
   "source": [
    "Finally, we send all 12,542 metadata records through the `flatten` function with the Dask `map` function, and ensure that the command is actually executed by using the `compute` function. Since `flatten` returns a single-level dictionary, we can convert the results of into a table using the `to_dataframe` function. Then we run `head` to look at the first 5 rows of this table."
   ]
  },
  {
   "cell_type": "code",
   "execution_count": 11,
   "metadata": {
    "ExecuteTime": {
     "end_time": "2020-06-08T19:23:02.794693Z",
     "start_time": "2020-06-08T19:22:27.789673Z"
    }
   },
   "outputs": [
    {
     "data": {
      "text/html": [
       "<div>\n",
       "<style scoped>\n",
       "    .dataframe tbody tr th:only-of-type {\n",
       "        vertical-align: middle;\n",
       "    }\n",
       "\n",
       "    .dataframe tbody tr th {\n",
       "        vertical-align: top;\n",
       "    }\n",
       "\n",
       "    .dataframe thead th {\n",
       "        text-align: right;\n",
       "    }\n",
       "</style>\n",
       "<table border=\"1\" class=\"dataframe\">\n",
       "  <thead>\n",
       "    <tr style=\"text-align: right;\">\n",
       "      <th></th>\n",
       "      <th>id</th>\n",
       "      <th>unitCode</th>\n",
       "      <th>title</th>\n",
       "      <th>media_count</th>\n",
       "      <th>media_id</th>\n",
       "      <th>topics</th>\n",
       "      <th>object_type</th>\n",
       "      <th>medium</th>\n",
       "    </tr>\n",
       "  </thead>\n",
       "  <tbody>\n",
       "    <tr>\n",
       "      <th>0</th>\n",
       "      <td>edanmdm-saam_1971.439.94</td>\n",
       "      <td>SAAM</td>\n",
       "      <td>Calavera for the Policeman</td>\n",
       "      <td>1.0</td>\n",
       "      <td>SAAM-1971.439.94_1</td>\n",
       "      <td>Occupations|Service|Policeman|Skeleton</td>\n",
       "      <td>Graphic Arts-Print</td>\n",
       "      <td>woodcut</td>\n",
       "    </tr>\n",
       "    <tr>\n",
       "      <th>1</th>\n",
       "      <td>edanmdm-saam_1915.5.1</td>\n",
       "      <td>SAAM</td>\n",
       "      <td>The Falling Gladiator</td>\n",
       "      <td>1.0</td>\n",
       "      <td>SAAM-1915.5.1_1</td>\n",
       "      <td>Sport|Occupations|Nudity|State of being|Figure...</td>\n",
       "      <td>Sculpture</td>\n",
       "      <td>plaster</td>\n",
       "    </tr>\n",
       "    <tr>\n",
       "      <th>2</th>\n",
       "      <td>edanmdm-saam_1983.90.173</td>\n",
       "      <td>SAAM</td>\n",
       "      <td>The Sortie Made by the Garrison of Gibraltar i...</td>\n",
       "      <td>NaN</td>\n",
       "      <td>NaN</td>\n",
       "      <td>History</td>\n",
       "      <td>Graphic Arts-Print</td>\n",
       "      <td>engraving</td>\n",
       "    </tr>\n",
       "    <tr>\n",
       "      <th>3</th>\n",
       "      <td>edanmdm-saam_1985.66.295_540</td>\n",
       "      <td>SAAM</td>\n",
       "      <td>Ta-do-udo-sa (Prairie Chicken)</td>\n",
       "      <td>1.0</td>\n",
       "      <td>SAAM-1985.66.295540_1</td>\n",
       "      <td>Ethnicity|Men|Portraits</td>\n",
       "      <td>Painting</td>\n",
       "      <td>oil on canvas</td>\n",
       "    </tr>\n",
       "    <tr>\n",
       "      <th>4</th>\n",
       "      <td>edanmdm-saam_1930.12.47</td>\n",
       "      <td>SAAM</td>\n",
       "      <td>Figure Study for Decorative Panel</td>\n",
       "      <td>1.0</td>\n",
       "      <td>SAAM-1930.12.47_1</td>\n",
       "      <td>Landscapes|Figure female|Nudity</td>\n",
       "      <td>Drawing</td>\n",
       "      <td>pencil and watercolor on paper mounted on pape...</td>\n",
       "    </tr>\n",
       "  </tbody>\n",
       "</table>\n",
       "</div>"
      ],
      "text/plain": [
       "                             id unitCode  \\\n",
       "0      edanmdm-saam_1971.439.94     SAAM   \n",
       "1         edanmdm-saam_1915.5.1     SAAM   \n",
       "2      edanmdm-saam_1983.90.173     SAAM   \n",
       "3  edanmdm-saam_1985.66.295_540     SAAM   \n",
       "4       edanmdm-saam_1930.12.47     SAAM   \n",
       "\n",
       "                                               title  media_count  \\\n",
       "0                         Calavera for the Policeman          1.0   \n",
       "1                              The Falling Gladiator          1.0   \n",
       "2  The Sortie Made by the Garrison of Gibraltar i...          NaN   \n",
       "3                     Ta-do-udo-sa (Prairie Chicken)          1.0   \n",
       "4                  Figure Study for Decorative Panel          1.0   \n",
       "\n",
       "                media_id                                             topics  \\\n",
       "0     SAAM-1971.439.94_1             Occupations|Service|Policeman|Skeleton   \n",
       "1        SAAM-1915.5.1_1  Sport|Occupations|Nudity|State of being|Figure...   \n",
       "2                    NaN                                            History   \n",
       "3  SAAM-1985.66.295540_1                            Ethnicity|Men|Portraits   \n",
       "4      SAAM-1930.12.47_1                    Landscapes|Figure female|Nudity   \n",
       "\n",
       "          object_type                                             medium  \n",
       "0  Graphic Arts-Print                                            woodcut  \n",
       "1           Sculpture                                            plaster  \n",
       "2  Graphic Arts-Print                                          engraving  \n",
       "3            Painting                                      oil on canvas  \n",
       "4             Drawing  pencil and watercolor on paper mounted on pape...  "
      ]
     },
     "execution_count": 11,
     "metadata": {},
     "output_type": "execute_result"
    }
   ],
   "source": [
    "saam_df = b.map(flatten).to_dataframe().compute()\n",
    "saam_df.head()"
   ]
  },
  {
   "cell_type": "markdown",
   "metadata": {},
   "source": [
    "Taking a look at the structure of the `pandas` dataframe, we can see that some of the data fields are null."
   ]
  },
  {
   "cell_type": "code",
   "execution_count": 12,
   "metadata": {
    "ExecuteTime": {
     "end_time": "2020-06-08T19:23:02.811265Z",
     "start_time": "2020-06-08T19:23:02.796238Z"
    }
   },
   "outputs": [
    {
     "name": "stdout",
     "output_type": "stream",
     "text": [
      "<class 'pandas.core.frame.DataFrame'>\n",
      "Int64Index: 12542 entries, 0 to 59\n",
      "Data columns (total 8 columns):\n",
      " #   Column       Non-Null Count  Dtype  \n",
      "---  ------       --------------  -----  \n",
      " 0   id           12542 non-null  object \n",
      " 1   unitCode     12542 non-null  object \n",
      " 2   title        12542 non-null  object \n",
      " 3   media_count  11561 non-null  float64\n",
      " 4   media_id     11561 non-null  object \n",
      " 5   topics       11230 non-null  object \n",
      " 6   object_type  12542 non-null  object \n",
      " 7   medium       12100 non-null  object \n",
      "dtypes: float64(1), object(7)\n",
      "memory usage: 881.9+ KB\n"
     ]
    }
   ],
   "source": [
    "saam_df.info()"
   ]
  },
  {
   "cell_type": "markdown",
   "metadata": {},
   "source": [
    "Let's look at the most common \"object_type\" and \"medium\" combinations amongst all SAAM works of art. We can see that the most common type of art is a painting created with oil on canvas."
   ]
  },
  {
   "cell_type": "code",
   "execution_count": 13,
   "metadata": {
    "ExecuteTime": {
     "end_time": "2020-06-08T19:23:02.829320Z",
     "start_time": "2020-06-08T19:23:02.812896Z"
    }
   },
   "outputs": [
    {
     "data": {
      "text/plain": [
       "object_type             medium                          \n",
       "Painting                oil on canvas                       1662\n",
       "                        watercolor on paper                  853\n",
       "Drawing                 pencil on paper                      642\n",
       "Graphic Arts-Print      wood engraving on paper              441\n",
       "Drawing                 drawing                              354\n",
       "Painting-Miniature      watercolor on ivory                  350\n",
       "Photography-Photoprint  albumen silver print                 268\n",
       "Graphic Arts-Print      lithograph                           223\n",
       "Decorative Arts-Glass   glass                                223\n",
       "Graphic Arts-Print      etching on paper                     214\n",
       "Sculpture               plaster                              209\n",
       "Drawing                 pencil                               201\n",
       "Graphic Arts-Print      etching                              194\n",
       "Painting                watercolor                           149\n",
       "Graphic Arts-Print      engraving                            149\n",
       "Painting                oil on wood                          137\n",
       "Graphic Arts-Print      hand-colored lithograph on paper     113\n",
       "                        lithograph on paper                  112\n",
       "                        wood engraving                       111\n",
       "Painting                watercolor and pencil on paper       110\n",
       "dtype: int64"
      ]
     },
     "execution_count": 13,
     "metadata": {},
     "output_type": "execute_result"
    }
   ],
   "source": [
    "saam_df.groupby(['object_type','medium']).size().sort_values(ascending=False).head(20)"
   ]
  },
  {
   "cell_type": "markdown",
   "metadata": {},
   "source": [
    "Since works of art have multiple topics listed, it is slightly more complicated to look at the most common topics."
   ]
  },
  {
   "cell_type": "code",
   "execution_count": 14,
   "metadata": {
    "ExecuteTime": {
     "end_time": "2020-06-08T19:23:02.836962Z",
     "start_time": "2020-06-08T19:23:02.831459Z"
    }
   },
   "outputs": [],
   "source": [
    "def count_topics(topic_column):\n",
    "    \"\"\"\n",
    "    Take the '|'-concatenated column from a pandas dataframe, and expand\n",
    "    it into a Counter object to see the most common individual topics.\n",
    "\n",
    "    Parameters\n",
    "    ----------\n",
    "    topic_column : pandas Series\n",
    "        A column from a metadata table. It is expected that multiple topics\n",
    "        are separated with a pipe symbol.\n",
    "\n",
    "    Returns\n",
    "    -------\n",
    "    topic_counts: Counter\n",
    "        A Python Counter object of each unique topic, and the number of times\n",
    "        that it is listed.\n",
    "    \"\"\"\n",
    "    topic_list = []\n",
    "    topics_entries = topic_column.dropna().tolist()\n",
    "    for topics_entry in topics_entries:\n",
    "        topics = topics_entry.split('|')\n",
    "        if len(topics):\n",
    "            topic_list += topics\n",
    "    topic_counts = Counter(topic_list)\n",
    "    return topic_counts"
   ]
  },
  {
   "cell_type": "markdown",
   "metadata": {},
   "source": [
    "Out of 12,542 works of art, there are 4,016 unique topics totally 56,927 total topics listed. We can see that \"Landscapes\" is the most common topic."
   ]
  },
  {
   "cell_type": "code",
   "execution_count": 15,
   "metadata": {
    "ExecuteTime": {
     "end_time": "2020-06-08T19:23:02.862480Z",
     "start_time": "2020-06-08T19:23:02.839408Z"
    }
   },
   "outputs": [
    {
     "name": "stdout",
     "output_type": "stream",
     "text": [
      "4016\n"
     ]
    },
    {
     "data": {
      "text/plain": [
       "[('Landscapes', 3368),\n",
       " ('Architecture', 2482),\n",
       " ('Portraits', 2459),\n",
       " ('Figure group', 2202),\n",
       " ('Men', 1988),\n",
       " ('Occupations', 1534),\n",
       " ('Ethnicity', 1375),\n",
       " ('Animals', 1354),\n",
       " ('Figure female', 1128),\n",
       " ('Women', 1062),\n",
       " ('Clothing and dress', 1003),\n",
       " ('Figure male', 814),\n",
       " ('Botanical study', 776),\n",
       " ('Religion', 751),\n",
       " ('Nudity', 707),\n",
       " ('Domestic', 704),\n",
       " ('Cityscapes', 625),\n",
       " ('Recreation', 558),\n",
       " ('Dress accessories', 554),\n",
       " ('Children', 517)]"
      ]
     },
     "execution_count": 15,
     "metadata": {},
     "output_type": "execute_result"
    }
   ],
   "source": [
    "topic_counts = count_topics(saam_df['topics'])\n",
    "\n",
    "print(len(topic_counts))\n",
    "topic_counts.most_common(20)"
   ]
  },
  {
   "cell_type": "markdown",
   "metadata": {},
   "source": [
    "Since 11,561 images is a lot to process, let's try to filter out all art that include people."
   ]
  },
  {
   "cell_type": "code",
   "execution_count": 16,
   "metadata": {
    "ExecuteTime": {
     "end_time": "2020-06-08T19:23:02.903802Z",
     "start_time": "2020-06-08T19:23:02.863896Z"
    }
   },
   "outputs": [
    {
     "data": {
      "text/html": [
       "<div>\n",
       "<style scoped>\n",
       "    .dataframe tbody tr th:only-of-type {\n",
       "        vertical-align: middle;\n",
       "    }\n",
       "\n",
       "    .dataframe tbody tr th {\n",
       "        vertical-align: top;\n",
       "    }\n",
       "\n",
       "    .dataframe thead th {\n",
       "        text-align: right;\n",
       "    }\n",
       "</style>\n",
       "<table border=\"1\" class=\"dataframe\">\n",
       "  <thead>\n",
       "    <tr style=\"text-align: right;\">\n",
       "      <th></th>\n",
       "      <th>id</th>\n",
       "      <th>unitCode</th>\n",
       "      <th>title</th>\n",
       "      <th>media_count</th>\n",
       "      <th>media_id</th>\n",
       "      <th>topics</th>\n",
       "      <th>object_type</th>\n",
       "      <th>medium</th>\n",
       "    </tr>\n",
       "  </thead>\n",
       "  <tbody>\n",
       "    <tr>\n",
       "      <th>6</th>\n",
       "      <td>edanmdm-saam_1929.6.144</td>\n",
       "      <td>SAAM</td>\n",
       "      <td>The Brook, Greenwich, Connecticut</td>\n",
       "      <td>1.0</td>\n",
       "      <td>SAAM-1929.6.144_1</td>\n",
       "      <td>Landscapes|Rivers|Greenwich</td>\n",
       "      <td>Painting</td>\n",
       "      <td>oil on canvas</td>\n",
       "    </tr>\n",
       "    <tr>\n",
       "      <th>20</th>\n",
       "      <td>edanmdm-saam_1991.56.271</td>\n",
       "      <td>SAAM</td>\n",
       "      <td>Nanfio</td>\n",
       "      <td>1.0</td>\n",
       "      <td>SAAM-1991.56.271_1</td>\n",
       "      <td>Mountains|Landscapes</td>\n",
       "      <td>Drawing</td>\n",
       "      <td>pencil on paper</td>\n",
       "    </tr>\n",
       "    <tr>\n",
       "      <th>21</th>\n",
       "      <td>edanmdm-saam_1998.160.3</td>\n",
       "      <td>SAAM</td>\n",
       "      <td>Untitled from \"Atlantic and Great Western Rail...</td>\n",
       "      <td>NaN</td>\n",
       "      <td>NaN</td>\n",
       "      <td>Bridges|Atlantic and Great Western Railroad|Ra...</td>\n",
       "      <td>Photography-Photoprint</td>\n",
       "      <td>albumen silver print</td>\n",
       "    </tr>\n",
       "    <tr>\n",
       "      <th>25</th>\n",
       "      <td>edanmdm-saam_1983.83.171</td>\n",
       "      <td>SAAM</td>\n",
       "      <td>Rhine at the Lurlei</td>\n",
       "      <td>1.0</td>\n",
       "      <td>SAAM-1983.83.171_1</td>\n",
       "      <td>Lurlei|Landscapes|Art|Rhine River|Rivers</td>\n",
       "      <td>Drawing</td>\n",
       "      <td>pencil on paper</td>\n",
       "    </tr>\n",
       "    <tr>\n",
       "      <th>26</th>\n",
       "      <td>edanmdm-saam_1983.83.55</td>\n",
       "      <td>SAAM</td>\n",
       "      <td>Untitled (transfer drawing for Storm near Timb...</td>\n",
       "      <td>1.0</td>\n",
       "      <td>SAAM-1983.83.55_1</td>\n",
       "      <td>Trees|Western|Weather|Landscapes|Storms|Rocks</td>\n",
       "      <td>Drawing</td>\n",
       "      <td>pencil on paper</td>\n",
       "    </tr>\n",
       "  </tbody>\n",
       "</table>\n",
       "</div>"
      ],
      "text/plain": [
       "                          id unitCode  \\\n",
       "6    edanmdm-saam_1929.6.144     SAAM   \n",
       "20  edanmdm-saam_1991.56.271     SAAM   \n",
       "21   edanmdm-saam_1998.160.3     SAAM   \n",
       "25  edanmdm-saam_1983.83.171     SAAM   \n",
       "26   edanmdm-saam_1983.83.55     SAAM   \n",
       "\n",
       "                                                title  media_count  \\\n",
       "6                   The Brook, Greenwich, Connecticut          1.0   \n",
       "20                                             Nanfio          1.0   \n",
       "21  Untitled from \"Atlantic and Great Western Rail...          NaN   \n",
       "25                                Rhine at the Lurlei          1.0   \n",
       "26  Untitled (transfer drawing for Storm near Timb...          1.0   \n",
       "\n",
       "              media_id                                             topics  \\\n",
       "6    SAAM-1929.6.144_1                        Landscapes|Rivers|Greenwich   \n",
       "20  SAAM-1991.56.271_1                               Mountains|Landscapes   \n",
       "21                 NaN  Bridges|Atlantic and Great Western Railroad|Ra...   \n",
       "25  SAAM-1983.83.171_1           Lurlei|Landscapes|Art|Rhine River|Rivers   \n",
       "26   SAAM-1983.83.55_1      Trees|Western|Weather|Landscapes|Storms|Rocks   \n",
       "\n",
       "               object_type                medium  \n",
       "6                 Painting         oil on canvas  \n",
       "20                 Drawing       pencil on paper  \n",
       "21  Photography-Photoprint  albumen silver print  \n",
       "25                 Drawing       pencil on paper  \n",
       "26                 Drawing       pencil on paper  "
      ]
     },
     "execution_count": 16,
     "metadata": {},
     "output_type": "execute_result"
    }
   ],
   "source": [
    "include_topics = ['Landscapes','Architecture','Animals']\n",
    "exclude_topics = ['Portraits','Nudity','Ethnicity','Men','Women','Children',\n",
    "                'Figure male','Figure female','Figure group',\n",
    "                 'Botanical study']\n",
    "include_regex = '|'.join(include_topics)\n",
    "exclude_regex = '|'.join(exclude_topics)\n",
    "filtered_df = saam_df[(saam_df['topics'].str.contains(include_regex, regex=True).fillna(False)) & \\\n",
    "                 (~saam_df['topics'].str.contains(exclude_regex, regex=True).fillna(False))]\n",
    "filtered_df.head()"
   ]
  },
  {
   "cell_type": "markdown",
   "metadata": {},
   "source": [
    "After running this filter step, we are left with 1,573 unique topics from 2,816 works of art."
   ]
  },
  {
   "cell_type": "code",
   "execution_count": 17,
   "metadata": {
    "ExecuteTime": {
     "end_time": "2020-06-08T19:23:02.916474Z",
     "start_time": "2020-06-08T19:23:02.905151Z"
    }
   },
   "outputs": [
    {
     "name": "stdout",
     "output_type": "stream",
     "text": [
      "2816\n",
      "1573\n"
     ]
    },
    {
     "data": {
      "text/plain": [
       "[('Landscapes', 1979),\n",
       " ('Architecture', 1177),\n",
       " ('Animals', 634),\n",
       " ('Mountains', 379),\n",
       " ('Rivers', 315),\n",
       " ('Trees', 291),\n",
       " ('Cityscapes', 276),\n",
       " ('Boats and boating', 258),\n",
       " ('Domestic', 253),\n",
       " ('Waterscapes', 231),\n",
       " ('Religion', 225),\n",
       " ('Detail', 189),\n",
       " ('Dwellings', 166),\n",
       " ('Birds', 164),\n",
       " ('Coasts', 141),\n",
       " ('Time', 125),\n",
       " ('Water', 122),\n",
       " ('Weather', 119),\n",
       " ('Seasons', 119),\n",
       " ('Roads', 112)]"
      ]
     },
     "execution_count": 17,
     "metadata": {},
     "output_type": "execute_result"
    }
   ],
   "source": [
    "print(len(filtered_df))\n",
    "filtered_topics = count_topics(filtered_df['topics'])\n",
    "print(len(filtered_topics))\n",
    "filtered_topics.most_common(20)"
   ]
  },
  {
   "cell_type": "markdown",
   "metadata": {},
   "source": [
    "Finally, let's limit our search to only paintings. This gives us a target set of 808 images to download and process."
   ]
  },
  {
   "cell_type": "code",
   "execution_count": 18,
   "metadata": {
    "ExecuteTime": {
     "end_time": "2020-06-08T19:23:02.929413Z",
     "start_time": "2020-06-08T19:23:02.917905Z"
    }
   },
   "outputs": [
    {
     "data": {
      "text/html": [
       "<div>\n",
       "<style scoped>\n",
       "    .dataframe tbody tr th:only-of-type {\n",
       "        vertical-align: middle;\n",
       "    }\n",
       "\n",
       "    .dataframe tbody tr th {\n",
       "        vertical-align: top;\n",
       "    }\n",
       "\n",
       "    .dataframe thead th {\n",
       "        text-align: right;\n",
       "    }\n",
       "</style>\n",
       "<table border=\"1\" class=\"dataframe\">\n",
       "  <thead>\n",
       "    <tr style=\"text-align: right;\">\n",
       "      <th></th>\n",
       "      <th>id</th>\n",
       "      <th>unitCode</th>\n",
       "      <th>title</th>\n",
       "      <th>media_count</th>\n",
       "      <th>media_id</th>\n",
       "      <th>topics</th>\n",
       "      <th>object_type</th>\n",
       "      <th>medium</th>\n",
       "    </tr>\n",
       "  </thead>\n",
       "  <tbody>\n",
       "    <tr>\n",
       "      <th>6</th>\n",
       "      <td>edanmdm-saam_1929.6.144</td>\n",
       "      <td>SAAM</td>\n",
       "      <td>The Brook, Greenwich, Connecticut</td>\n",
       "      <td>1.0</td>\n",
       "      <td>SAAM-1929.6.144_1</td>\n",
       "      <td>Landscapes|Rivers|Greenwich</td>\n",
       "      <td>Painting</td>\n",
       "      <td>oil on canvas</td>\n",
       "    </tr>\n",
       "    <tr>\n",
       "      <th>34</th>\n",
       "      <td>edanmdm-saam_1967.136.6</td>\n",
       "      <td>SAAM</td>\n",
       "      <td>Mountains in Colorado</td>\n",
       "      <td>1.0</td>\n",
       "      <td>SAAM-1967.136.6_1</td>\n",
       "      <td>Mountains|Western|Landscapes|Rocks</td>\n",
       "      <td>Painting</td>\n",
       "      <td>oil on paper mounted on paperboard</td>\n",
       "    </tr>\n",
       "    <tr>\n",
       "      <th>36</th>\n",
       "      <td>edanmdm-saam_1958.5.3</td>\n",
       "      <td>SAAM</td>\n",
       "      <td>Above Tower Falls, Yellowstone</td>\n",
       "      <td>1.0</td>\n",
       "      <td>SAAM-1958.5.3_1</td>\n",
       "      <td>Yellowstone National Park|Landscapes|Tower Fal...</td>\n",
       "      <td>Painting</td>\n",
       "      <td>watercolor and gouache on paper</td>\n",
       "    </tr>\n",
       "    <tr>\n",
       "      <th>37</th>\n",
       "      <td>edanmdm-saam_1984.50</td>\n",
       "      <td>SAAM</td>\n",
       "      <td>The Departure of the Crusaders</td>\n",
       "      <td>1.0</td>\n",
       "      <td>SAAM-1984.50_2</td>\n",
       "      <td>Bishop|Crusades|Architecture|Procession|Occupa...</td>\n",
       "      <td>Painting</td>\n",
       "      <td>oil on canvas</td>\n",
       "    </tr>\n",
       "    <tr>\n",
       "      <th>0</th>\n",
       "      <td>edanmdm-saam_1973.150</td>\n",
       "      <td>SAAM</td>\n",
       "      <td>The Yacht America</td>\n",
       "      <td>1.0</td>\n",
       "      <td>SAAM-1973.150_1</td>\n",
       "      <td>Boats and boating|Architecture|Yacht|Waterscap...</td>\n",
       "      <td>Painting</td>\n",
       "      <td>oil on canvas</td>\n",
       "    </tr>\n",
       "  </tbody>\n",
       "</table>\n",
       "</div>"
      ],
      "text/plain": [
       "                         id unitCode                              title  \\\n",
       "6   edanmdm-saam_1929.6.144     SAAM  The Brook, Greenwich, Connecticut   \n",
       "34  edanmdm-saam_1967.136.6     SAAM              Mountains in Colorado   \n",
       "36    edanmdm-saam_1958.5.3     SAAM     Above Tower Falls, Yellowstone   \n",
       "37     edanmdm-saam_1984.50     SAAM     The Departure of the Crusaders   \n",
       "0     edanmdm-saam_1973.150     SAAM                  The Yacht America   \n",
       "\n",
       "    media_count           media_id  \\\n",
       "6           1.0  SAAM-1929.6.144_1   \n",
       "34          1.0  SAAM-1967.136.6_1   \n",
       "36          1.0    SAAM-1958.5.3_1   \n",
       "37          1.0     SAAM-1984.50_2   \n",
       "0           1.0    SAAM-1973.150_1   \n",
       "\n",
       "                                               topics object_type  \\\n",
       "6                         Landscapes|Rivers|Greenwich    Painting   \n",
       "34                 Mountains|Western|Landscapes|Rocks    Painting   \n",
       "36  Yellowstone National Park|Landscapes|Tower Fal...    Painting   \n",
       "37  Bishop|Crusades|Architecture|Procession|Occupa...    Painting   \n",
       "0   Boats and boating|Architecture|Yacht|Waterscap...    Painting   \n",
       "\n",
       "                                medium  \n",
       "6                        oil on canvas  \n",
       "34  oil on paper mounted on paperboard  \n",
       "36     watercolor and gouache on paper  \n",
       "37                       oil on canvas  \n",
       "0                        oil on canvas  "
      ]
     },
     "execution_count": 18,
     "metadata": {},
     "output_type": "execute_result"
    }
   ],
   "source": [
    "filtered_paintings = filtered_df[filtered_df['object_type'] == 'Painting']\n",
    "filtered_paintings.head()"
   ]
  },
  {
   "cell_type": "code",
   "execution_count": 19,
   "metadata": {
    "ExecuteTime": {
     "end_time": "2020-06-08T19:23:02.938402Z",
     "start_time": "2020-06-08T19:23:02.931174Z"
    }
   },
   "outputs": [
    {
     "data": {
      "text/plain": [
       "['SAAM-1929.6.144_1',\n",
       " 'SAAM-1967.136.6_1',\n",
       " 'SAAM-1958.5.3_1',\n",
       " 'SAAM-1984.50_2',\n",
       " 'SAAM-1973.150_1',\n",
       " 'SAAM-1985.66.385_1',\n",
       " 'SAAM-1909.7.51_1',\n",
       " 'SAAM-1983.95.91_1',\n",
       " 'SAAM-1972.2.12_1',\n",
       " 'SAAM-1978.68_1']"
      ]
     },
     "execution_count": 19,
     "metadata": {},
     "output_type": "execute_result"
    }
   ],
   "source": [
    "painting_ids = filtered_paintings['media_id'].dropna().tolist()\n",
    "painting_ids[:10]"
   ]
  },
  {
   "cell_type": "markdown",
   "metadata": {},
   "source": [
    "## Download image files from S3"
   ]
  },
  {
   "cell_type": "markdown",
   "metadata": {},
   "source": [
    "This section of the demo can actually be skipped, since the GitHub repository already has all thumbnails included, and this is the slowest part of the demo (around 4 minutes)."
   ]
  },
  {
   "cell_type": "code",
   "execution_count": 20,
   "metadata": {
    "ExecuteTime": {
     "end_time": "2020-06-08T19:23:03.079203Z",
     "start_time": "2020-06-08T19:23:02.940071Z"
    }
   },
   "outputs": [
    {
     "name": "stdout",
     "output_type": "stream",
     "text": [
      "mkdir: saam_thumbnails: File exists\r\n"
     ]
    }
   ],
   "source": [
    "!mkdir saam_thumbnails"
   ]
  },
  {
   "cell_type": "code",
   "execution_count": 21,
   "metadata": {
    "ExecuteTime": {
     "end_time": "2020-06-08T19:23:03.088990Z",
     "start_time": "2020-06-08T19:23:03.083130Z"
    }
   },
   "outputs": [],
   "source": [
    "def download_thumbnail(edan_id):\n",
    "    thumb_size = (500, 500)\n",
    "    s3_url = f'smithsonian-open-access/media/saam/{edan_id}.jpg'\n",
    "    file_dest = f'saam_thumbnails/{edan_id}.jpg'\n",
    "    with fs.open(s3_url,'rb') as s3_image:\n",
    "        pil_image = Image.open(s3_image)\n",
    "        pil_image.thumbnail(thumb_size)\n",
    "        pil_image.save(file_dest)\n",
    "    return"
   ]
  },
  {
   "cell_type": "code",
   "execution_count": 22,
   "metadata": {
    "ExecuteTime": {
     "end_time": "2020-06-08T19:29:57.180580Z",
     "start_time": "2020-06-08T19:23:03.090989Z"
    }
   },
   "outputs": [
    {
     "name": "stdout",
     "output_type": "stream",
     "text": [
      "414.08579993247986\n"
     ]
    }
   ],
   "source": [
    "start = time.time()\n",
    "futures = client.map(download_thumbnail, painting_ids)\n",
    "results = client.gather(futures)\n",
    "end = time.time()\n",
    "print(end - start)"
   ]
  },
  {
   "cell_type": "markdown",
   "metadata": {},
   "source": [
    "## Producing image feature vectors and then clustering with UMAP"
   ]
  },
  {
   "cell_type": "code",
   "execution_count": 23,
   "metadata": {
    "ExecuteTime": {
     "end_time": "2020-06-08T19:30:01.394638Z",
     "start_time": "2020-06-08T19:29:57.183755Z"
    }
   },
   "outputs": [
    {
     "name": "stderr",
     "output_type": "stream",
     "text": [
      "/Users/triznam/miniconda3/envs/siopenaccess/lib/python3.8/site-packages/umap/spectral.py:4: NumbaDeprecationWarning: No direct replacement for 'numba.targets' available. Visit https://gitter.im/numba/numba-dev to request help. Thanks!\n",
      "  import numba.targets\n"
     ]
    }
   ],
   "source": [
    "import tensorflow as tf\n",
    "from umap import UMAP\n",
    "import os\n",
    "from PIL import Image\n",
    "from sklearn.decomposition import PCA\n",
    "from sklearn.preprocessing import minmax_scale\n",
    "import matplotlib.pyplot as plt\n",
    "%matplotlib inline"
   ]
  },
  {
   "cell_type": "code",
   "execution_count": 37,
   "metadata": {
    "ExecuteTime": {
     "end_time": "2020-06-08T19:50:17.405745Z",
     "start_time": "2020-06-08T19:50:12.824917Z"
    }
   },
   "outputs": [],
   "source": [
    "base = tf.keras.applications.InceptionV3(include_top=True, weights='imagenet', pooling='avg')\n",
    "mobilenet_model = tf.keras.Model(inputs=base.input, outputs=base.layers[-2].output)"
   ]
  },
  {
   "cell_type": "code",
   "execution_count": 40,
   "metadata": {
    "ExecuteTime": {
     "end_time": "2020-06-08T19:50:49.963596Z",
     "start_time": "2020-06-08T19:50:49.959557Z"
    }
   },
   "outputs": [],
   "source": [
    "def image_to_vector(image_path):\n",
    "    pil_image = Image.open(image_path).resize((299,299), Image.ANTIALIAS)\n",
    "    np_image = np.array(pil_image)\n",
    "    np_image = np.expand_dims(np_image, axis=0)\n",
    "    im = tf.keras.applications.inception_v3.preprocess_input(np_image)\n",
    "    vec = mobilenet_model.predict(im).squeeze()\n",
    "    return vec"
   ]
  },
  {
   "cell_type": "code",
   "execution_count": 41,
   "metadata": {
    "ExecuteTime": {
     "end_time": "2020-06-08T19:50:55.476670Z",
     "start_time": "2020-06-08T19:50:54.320588Z"
    }
   },
   "outputs": [
    {
     "data": {
      "text/plain": [
       "array([0.23732622, 0.07029779, 0.20686562, ..., 0.22391696, 0.01467886,\n",
       "       0.43165675], dtype=float32)"
      ]
     },
     "execution_count": 41,
     "metadata": {},
     "output_type": "execute_result"
    }
   ],
   "source": [
    "test_image_path = 'saam_thumbnails/SAAM-1909.11.2_1.jpg'\n",
    "feature_vector = image_to_vector(test_image_path)\n",
    "feature_vector"
   ]
  },
  {
   "cell_type": "code",
   "execution_count": 42,
   "metadata": {
    "ExecuteTime": {
     "end_time": "2020-06-08T19:50:59.573890Z",
     "start_time": "2020-06-08T19:50:59.568775Z"
    }
   },
   "outputs": [
    {
     "data": {
      "text/plain": [
       "['saam_thumbnails/SAAM-1929.6.144_1.jpg',\n",
       " 'saam_thumbnails/SAAM-1967.136.6_1.jpg',\n",
       " 'saam_thumbnails/SAAM-1958.5.3_1.jpg',\n",
       " 'saam_thumbnails/SAAM-1984.50_2.jpg',\n",
       " 'saam_thumbnails/SAAM-1973.150_1.jpg']"
      ]
     },
     "execution_count": 42,
     "metadata": {},
     "output_type": "execute_result"
    }
   ],
   "source": [
    "image_dir = 'saam_thumbnails'\n",
    "painting_image_paths = [f'{image_dir}/{edan_id}.jpg' for edan_id in painting_ids]\n",
    "painting_image_paths[:5]"
   ]
  },
  {
   "cell_type": "code",
   "execution_count": 43,
   "metadata": {
    "ExecuteTime": {
     "end_time": "2020-06-08T19:52:34.122966Z",
     "start_time": "2020-06-08T19:51:01.091777Z"
    }
   },
   "outputs": [
    {
     "name": "stdout",
     "output_type": "stream",
     "text": [
      "93.02735090255737\n"
     ]
    }
   ],
   "source": [
    "start = time.time()\n",
    "vectors = []\n",
    "for image in painting_image_paths:\n",
    "    vec = image_to_vector(image)\n",
    "    vectors.append(vec)\n",
    "vector_array = np.array(vectors)\n",
    "end = time.time()\n",
    "print(end - start)"
   ]
  },
  {
   "cell_type": "code",
   "execution_count": 29,
   "metadata": {
    "ExecuteTime": {
     "end_time": "2020-06-08T19:30:48.250072Z",
     "start_time": "2020-06-08T19:30:48.246648Z"
    }
   },
   "outputs": [
    {
     "data": {
      "text/plain": [
       "(808, 1280)"
      ]
     },
     "execution_count": 29,
     "metadata": {},
     "output_type": "execute_result"
    }
   ],
   "source": [
    "vector_array.shape"
   ]
  },
  {
   "cell_type": "code",
   "execution_count": 30,
   "metadata": {
    "ExecuteTime": {
     "end_time": "2020-06-08T19:30:55.579826Z",
     "start_time": "2020-06-08T19:30:48.251252Z"
    }
   },
   "outputs": [
    {
     "data": {
      "text/plain": [
       "<matplotlib.collections.PathCollection at 0x14b14f3d0>"
      ]
     },
     "execution_count": 30,
     "metadata": {},
     "output_type": "execute_result"
    },
    {
     "data": {
      "image/png": "[encoded data removed]",
      "text/plain": [
       "<Figure size 432x288 with 1 Axes>"
      ]
     },
     "metadata": {
      "needs_background": "light"
     },
     "output_type": "display_data"
    }
   ],
   "source": [
    "reducer = UMAP(random_state=42)\n",
    "\n",
    "embedding = reducer.fit_transform(vector_array)\n",
    "\n",
    "plt.scatter(embedding[:,0], embedding[:,1],\n",
    "            alpha=0.2)"
   ]
  },
  {
   "cell_type": "code",
   "execution_count": 31,
   "metadata": {
    "ExecuteTime": {
     "end_time": "2020-06-08T19:30:55.584772Z",
     "start_time": "2020-06-08T19:30:55.581400Z"
    }
   },
   "outputs": [],
   "source": [
    "embedding_normalized = minmax_scale(embedding)"
   ]
  },
  {
   "cell_type": "code",
   "execution_count": 32,
   "metadata": {
    "ExecuteTime": {
     "end_time": "2020-06-08T19:30:55.590749Z",
     "start_time": "2020-06-08T19:30:55.586223Z"
    }
   },
   "outputs": [
    {
     "data": {
      "text/plain": [
       "array([[0.1016928 , 0.32663596],\n",
       "       [0.53367233, 0.02245665],\n",
       "       [0.44649208, 0.04934469],\n",
       "       [0.56462836, 0.44722834],\n",
       "       [0.88181853, 0.45482466]], dtype=float32)"
      ]
     },
     "execution_count": 32,
     "metadata": {},
     "output_type": "execute_result"
    }
   ],
   "source": [
    "embedding_normalized[:5]"
   ]
  },
  {
   "cell_type": "code",
   "execution_count": 33,
   "metadata": {
    "ExecuteTime": {
     "end_time": "2020-06-08T19:30:55.603747Z",
     "start_time": "2020-06-08T19:30:55.592490Z"
    }
   },
   "outputs": [
    {
     "data": {
      "text/html": [
       "<div>\n",
       "<style scoped>\n",
       "    .dataframe tbody tr th:only-of-type {\n",
       "        vertical-align: middle;\n",
       "    }\n",
       "\n",
       "    .dataframe tbody tr th {\n",
       "        vertical-align: top;\n",
       "    }\n",
       "\n",
       "    .dataframe thead th {\n",
       "        text-align: right;\n",
       "    }\n",
       "</style>\n",
       "<table border=\"1\" class=\"dataframe\">\n",
       "  <thead>\n",
       "    <tr style=\"text-align: right;\">\n",
       "      <th></th>\n",
       "      <th>x</th>\n",
       "      <th>y</th>\n",
       "    </tr>\n",
       "  </thead>\n",
       "  <tbody>\n",
       "    <tr>\n",
       "      <th>SAAM-1929.6.144_1</th>\n",
       "      <td>0.101693</td>\n",
       "      <td>0.326636</td>\n",
       "    </tr>\n",
       "    <tr>\n",
       "      <th>SAAM-1967.136.6_1</th>\n",
       "      <td>0.533672</td>\n",
       "      <td>0.022457</td>\n",
       "    </tr>\n",
       "    <tr>\n",
       "      <th>SAAM-1958.5.3_1</th>\n",
       "      <td>0.446492</td>\n",
       "      <td>0.049345</td>\n",
       "    </tr>\n",
       "    <tr>\n",
       "      <th>SAAM-1984.50_2</th>\n",
       "      <td>0.564628</td>\n",
       "      <td>0.447228</td>\n",
       "    </tr>\n",
       "    <tr>\n",
       "      <th>SAAM-1973.150_1</th>\n",
       "      <td>0.881819</td>\n",
       "      <td>0.454825</td>\n",
       "    </tr>\n",
       "  </tbody>\n",
       "</table>\n",
       "</div>"
      ],
      "text/plain": [
       "                          x         y\n",
       "SAAM-1929.6.144_1  0.101693  0.326636\n",
       "SAAM-1967.136.6_1  0.533672  0.022457\n",
       "SAAM-1958.5.3_1    0.446492  0.049345\n",
       "SAAM-1984.50_2     0.564628  0.447228\n",
       "SAAM-1973.150_1    0.881819  0.454825"
      ]
     },
     "execution_count": 33,
     "metadata": {},
     "output_type": "execute_result"
    }
   ],
   "source": [
    "df = pd.DataFrame(embedding_normalized, index=painting_ids, columns = ['x','y'])\n",
    "df.head()"
   ]
  },
  {
   "cell_type": "code",
   "execution_count": 34,
   "metadata": {
    "ExecuteTime": {
     "end_time": "2020-06-08T19:30:55.614837Z",
     "start_time": "2020-06-08T19:30:55.605259Z"
    }
   },
   "outputs": [],
   "source": [
    "df.to_csv('saam_features.tsv', sep='\\t')"
   ]
  },
  {
   "cell_type": "code",
   "execution_count": 35,
   "metadata": {
    "ExecuteTime": {
     "end_time": "2020-06-08T19:30:59.269577Z",
     "start_time": "2020-06-08T19:30:55.616275Z"
    }
   },
   "outputs": [
    {
     "data": {
      "text/plain": [
       "<matplotlib.image.AxesImage at 0x14b9cbc40>"
      ]
     },
     "execution_count": 35,
     "metadata": {},
     "output_type": "execute_result"
    },
    {
     "data": {
      "image/png": "[encoded data removed]",
      "text/plain": [
       "<Figure size 432x288 with 1 Axes>"
      ]
     },
     "metadata": {
      "needs_background": "light"
     },
     "output_type": "display_data"
    }
   ],
   "source": [
    "CANVAS_HEIGHT = 2500\n",
    "CANVAS_WIDTH = 5000\n",
    "canvas = np.full((CANVAS_HEIGHT+500,CANVAS_WIDTH+500,3),255, dtype=np.uint8)\n",
    "\n",
    "THUMBNAIL_SIZE = 500,500\n",
    "\n",
    "for row in df[::-1].itertuples():\n",
    "    image_path = os.path.join(image_dir, row.Index) + '.jpg'\n",
    "    x_pos = round(row.x * CANVAS_WIDTH)\n",
    "    y_pos = CANVAS_HEIGHT - round(row.y * CANVAS_HEIGHT)\n",
    "\n",
    "    pil_image = Image.open(image_path)\n",
    "    pil_image.thumbnail(THUMBNAIL_SIZE)\n",
    "    np_image = np.array(pil_image)\n",
    "    canvas[y_pos:np_image.shape[0]+y_pos,\n",
    "           x_pos:np_image.shape[1]+x_pos] = np_image    \n",
    "plt.imshow(canvas)"
   ]
  },
  {
   "cell_type": "code",
   "execution_count": 36,
   "metadata": {
    "ExecuteTime": {
     "end_time": "2020-06-08T19:31:02.893863Z",
     "start_time": "2020-06-08T19:30:59.271209Z"
    }
   },
   "outputs": [],
   "source": [
    "saam_umap = Image.fromarray(canvas)\n",
    "saam_umap.save('saam_umap.png')"
   ]
  },
  {
   "cell_type": "code",
   "execution_count": null,
   "metadata": {},
   "outputs": [],
   "source": []
  }
 ],
 "metadata": {
  "kernelspec": {
   "display_name": "Python 3",
   "language": "python",
   "name": "python3"
  },
  "language_info": {
   "codemirror_mode": {
    "name": "ipython",
    "version": 3
   },
   "file_extension": ".py",
   "mimetype": "text/x-python",
   "name": "python",
   "nbconvert_exporter": "python",
   "pygments_lexer": "ipython3",
   "version": "3.8.3"
  }
 },
 "nbformat": 4,
 "nbformat_minor": 4
}
